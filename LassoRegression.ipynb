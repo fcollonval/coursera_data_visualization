{
 "cells": [
  {
   "cell_type": "markdown",
   "metadata": {},
   "source": [
    "# Machine Learning for Data Analysis\n",
    "# Assignment: Running a Random Forest\n",
    "\n",
    "Following is the Python program I wrote to fulfill the third assignment of the [Machine Learning for Data Analysis online course](https://www.coursera.org/learn/machine-learning-data-analysis/home/welcome).\n",
    "\n",
    "I decided to use [Jupyter Notebook](http://nbviewer.jupyter.org/github/ipython/ipython/blob/3.x/examples/Notebook/Index.ipynb) as it is a pretty way to write code and present results.\n",
    "\n",
    "## Assignment research question\n",
    "\n",
    "Using the [Gapminder database](http://www.gapminder.org/), I would like to see the variables that are the most influencing the income per person (2010 GDP per capita in constant 2000 US$) from the following list of variables:\n",
    "\n",
    "- Residential electricity consumption (per person in kWh)\n",
    "- CO2 emissions (in metric tons)\n",
    "- Employ rate (total employees age 15+ in % of the population)\n",
    "- Internet use rate (Internet users per 100 people)\n",
    "- Life expectancy (Life expectancy at birth in years)\n",
    "- Polity score (Democracty score; the scale ranges from -10 (the lowest) to 10 (the highest))\n",
    "- Urban rate (Urban population in %)\n",
    "\n",
    "\n",
    "## Data management\n",
    "\n",
    "For the question I'm interested in, the countries for which data are missing will be discarded. As missing data in Gapminder database are replaced directly by `NaN` no special data treatment is needed."
   ]
  },
  {
   "cell_type": "code",
   "execution_count": 1,
   "metadata": {
    "collapsed": false
   },
   "outputs": [],
   "source": [
    "# Magic command to insert the graph directly in the notebook\n",
    "%matplotlib inline\n",
    "# Load a useful Python libraries for handling data\n",
    "import pandas as pd\n",
    "import numpy as np\n",
    "import seaborn as sns\n",
    "import matplotlib.pyplot as plt\n",
    "from IPython.display import Markdown, display\n",
    "\n",
    "from sklearn.cross_validation import train_test_split\n",
    "from sklearn.linear_model import LassoLarsCV"
   ]
  },
  {
   "cell_type": "code",
   "execution_count": 2,
   "metadata": {
    "collapsed": false
   },
   "outputs": [],
   "source": [
    "# Read the data\n",
    "data_filename = r'gapminder.csv'\n",
    "data = pd.read_csv(data_filename)\n",
    "data = data.set_index('country')"
   ]
  },
  {
   "cell_type": "markdown",
   "metadata": {},
   "source": [
    "General information on the Gapminder data"
   ]
  },
  {
   "cell_type": "code",
   "execution_count": 3,
   "metadata": {
    "collapsed": false
   },
   "outputs": [
    {
     "data": {
      "text/markdown": [
       "Number of countries: 213"
      ],
      "text/plain": [
       "<IPython.core.display.Markdown object>"
      ]
     },
     "metadata": {},
     "output_type": "display_data"
    }
   ],
   "source": [
    "display(Markdown(\"Number of countries: {}\".format(len(data))))"
   ]
  },
  {
   "cell_type": "markdown",
   "metadata": {},
   "source": [
    "## Predictors selections and standardization"
   ]
  },
  {
   "cell_type": "code",
   "execution_count": 4,
   "metadata": {
    "collapsed": false
   },
   "outputs": [
    {
     "data": {
      "text/markdown": [
       "Number of countries after discarding countries with missing data: 122"
      ],
      "text/plain": [
       "<IPython.core.display.Markdown object>"
      ]
     },
     "metadata": {},
     "output_type": "display_data"
    }
   ],
   "source": [
    "explanatory_vars = ['employrate', 'urbanrate', 'polityscore', 'lifeexpectancy', 'internetuserate', 'relectricperperson']\n",
    "response_var = 'incomeperperson'\n",
    "\n",
    "constructor_dict = dict()\n",
    "for var in explanatory_vars + [response_var, ]:\n",
    "    constructor_dict[var] = pd.to_numeric(data[var], errors='coerce')\n",
    "\n",
    "numeric_data = pd.DataFrame(constructor_dict, index=data.index).dropna()\n",
    "\n",
    "display(Markdown(\"Number of countries after discarding countries with missing data: {}\".format(len(numeric_data))))"
   ]
  },
  {
   "cell_type": "markdown",
   "metadata": {},
   "source": [
    "The number of countries has unfortunately been almost divided by two due to missing data. Nevertheless the k-fold cross-validation technique will be used."
   ]
  },
  {
   "cell_type": "code",
   "execution_count": 5,
   "metadata": {
    "collapsed": false
   },
   "outputs": [
    {
     "data": {
      "text/html": [
       "<div>\n",
       "<table border=\"1\" class=\"dataframe\">\n",
       "  <thead>\n",
       "    <tr style=\"text-align: right;\">\n",
       "      <th></th>\n",
       "      <th>employrate</th>\n",
       "      <th>urbanrate</th>\n",
       "      <th>polityscore</th>\n",
       "      <th>lifeexpectancy</th>\n",
       "      <th>internetuserate</th>\n",
       "      <th>relectricperperson</th>\n",
       "    </tr>\n",
       "  </thead>\n",
       "  <tbody>\n",
       "    <tr>\n",
       "      <th>count</th>\n",
       "      <td>1.220000e+02</td>\n",
       "      <td>1.220000e+02</td>\n",
       "      <td>1.220000e+02</td>\n",
       "      <td>1.220000e+02</td>\n",
       "      <td>1.220000e+02</td>\n",
       "      <td>1.220000e+02</td>\n",
       "    </tr>\n",
       "    <tr>\n",
       "      <th>mean</th>\n",
       "      <td>2.966662e-16</td>\n",
       "      <td>-1.255826e-16</td>\n",
       "      <td>-7.280151e-18</td>\n",
       "      <td>6.151728e-16</td>\n",
       "      <td>-1.674435e-16</td>\n",
       "      <td>3.458072e-17</td>\n",
       "    </tr>\n",
       "    <tr>\n",
       "      <th>std</th>\n",
       "      <td>1.004124e+00</td>\n",
       "      <td>1.004124e+00</td>\n",
       "      <td>1.004124e+00</td>\n",
       "      <td>1.004124e+00</td>\n",
       "      <td>1.004124e+00</td>\n",
       "      <td>1.004124e+00</td>\n",
       "    </tr>\n",
       "    <tr>\n",
       "      <th>min</th>\n",
       "      <td>-2.213732e+00</td>\n",
       "      <td>-2.320113e+00</td>\n",
       "      <td>-2.276661e+00</td>\n",
       "      <td>-2.662916e+00</td>\n",
       "      <td>-1.374107e+00</td>\n",
       "      <td>-6.952002e-01</td>\n",
       "    </tr>\n",
       "    <tr>\n",
       "      <th>25%</th>\n",
       "      <td>-7.111398e-01</td>\n",
       "      <td>-6.144084e-01</td>\n",
       "      <td>-6.913150e-01</td>\n",
       "      <td>-4.067152e-01</td>\n",
       "      <td>-9.480402e-01</td>\n",
       "      <td>-5.613602e-01</td>\n",
       "    </tr>\n",
       "    <tr>\n",
       "      <th>50%</th>\n",
       "      <td>5.781782e-02</td>\n",
       "      <td>1.349639e-01</td>\n",
       "      <td>4.184275e-01</td>\n",
       "      <td>2.442529e-01</td>\n",
       "      <td>-8.308699e-02</td>\n",
       "      <td>-3.570663e-01</td>\n",
       "    </tr>\n",
       "    <tr>\n",
       "      <th>75%</th>\n",
       "      <td>5.686445e-01</td>\n",
       "      <td>6.746787e-01</td>\n",
       "      <td>8.543977e-01</td>\n",
       "      <td>7.129940e-01</td>\n",
       "      <td>8.859429e-01</td>\n",
       "      <td>1.949836e-01</td>\n",
       "    </tr>\n",
       "    <tr>\n",
       "      <th>max</th>\n",
       "      <td>2.492397e+00</td>\n",
       "      <td>1.935811e+00</td>\n",
       "      <td>8.940314e-01</td>\n",
       "      <td>1.394599e+00</td>\n",
       "      <td>2.020079e+00</td>\n",
       "      <td>6.239523e+00</td>\n",
       "    </tr>\n",
       "  </tbody>\n",
       "</table>\n",
       "</div>"
      ],
      "text/plain": [
       "         employrate     urbanrate   polityscore  lifeexpectancy  \\\n",
       "count  1.220000e+02  1.220000e+02  1.220000e+02    1.220000e+02   \n",
       "mean   2.966662e-16 -1.255826e-16 -7.280151e-18    6.151728e-16   \n",
       "std    1.004124e+00  1.004124e+00  1.004124e+00    1.004124e+00   \n",
       "min   -2.213732e+00 -2.320113e+00 -2.276661e+00   -2.662916e+00   \n",
       "25%   -7.111398e-01 -6.144084e-01 -6.913150e-01   -4.067152e-01   \n",
       "50%    5.781782e-02  1.349639e-01  4.184275e-01    2.442529e-01   \n",
       "75%    5.686445e-01  6.746787e-01  8.543977e-01    7.129940e-01   \n",
       "max    2.492397e+00  1.935811e+00  8.940314e-01    1.394599e+00   \n",
       "\n",
       "       internetuserate  relectricperperson  \n",
       "count     1.220000e+02        1.220000e+02  \n",
       "mean     -1.674435e-16        3.458072e-17  \n",
       "std       1.004124e+00        1.004124e+00  \n",
       "min      -1.374107e+00       -6.952002e-01  \n",
       "25%      -9.480402e-01       -5.613602e-01  \n",
       "50%      -8.308699e-02       -3.570663e-01  \n",
       "75%       8.859429e-01        1.949836e-01  \n",
       "max       2.020079e+00        6.239523e+00  "
      ]
     },
     "execution_count": 5,
     "metadata": {},
     "output_type": "execute_result"
    }
   ],
   "source": [
    "predictors = numeric_data[explanatory_vars]\n",
    "\n",
    "target = numeric_data[response_var]\n",
    "\n",
    "# Standardize predictors to have mean=0 and std=1\n",
    "from sklearn import preprocessing\n",
    "std_predictors = predictors.copy()\n",
    "\n",
    "for var in std_predictors.columns:\n",
    "    std_predictors[var] = preprocessing.scale(std_predictors[var].astype('float64'))\n",
    "    \n",
    "# Check standardization\n",
    "std_predictors.describe()"
   ]
  },
  {
   "cell_type": "markdown",
   "metadata": {},
   "source": [
    "The table above proves the explanatory variables have been standardized (i.e. mean=0 and std=1).\n",
    "\n",
    "Next the data will be split in two sets; the training set (70% of the data) and the test set (30% of the data). Then the lasso regression analysis will be carried out with 10 folds in the k-fold cross-validation process."
   ]
  },
  {
   "cell_type": "code",
   "execution_count": 6,
   "metadata": {
    "collapsed": false
   },
   "outputs": [
    {
     "data": {
      "text/html": [
       "<div>\n",
       "<table border=\"1\" class=\"dataframe\">\n",
       "  <thead>\n",
       "    <tr style=\"text-align: right;\">\n",
       "      <th></th>\n",
       "      <th>Regression coefficients</th>\n",
       "    </tr>\n",
       "  </thead>\n",
       "  <tbody>\n",
       "    <tr>\n",
       "      <th>employrate</th>\n",
       "      <td>0.000000</td>\n",
       "    </tr>\n",
       "    <tr>\n",
       "      <th>urbanrate</th>\n",
       "      <td>0.000000</td>\n",
       "    </tr>\n",
       "    <tr>\n",
       "      <th>polityscore</th>\n",
       "      <td>591.101333</td>\n",
       "    </tr>\n",
       "    <tr>\n",
       "      <th>lifeexpectancy</th>\n",
       "      <td>181.624969</td>\n",
       "    </tr>\n",
       "    <tr>\n",
       "      <th>internetuserate</th>\n",
       "      <td>4999.326773</td>\n",
       "    </tr>\n",
       "    <tr>\n",
       "      <th>relectricperperson</th>\n",
       "      <td>2774.715039</td>\n",
       "    </tr>\n",
       "  </tbody>\n",
       "</table>\n",
       "</div>"
      ],
      "text/plain": [
       "                    Regression coefficients\n",
       "employrate                         0.000000\n",
       "urbanrate                          0.000000\n",
       "polityscore                      591.101333\n",
       "lifeexpectancy                   181.624969\n",
       "internetuserate                 4999.326773\n",
       "relectricperperson              2774.715039"
      ]
     },
     "execution_count": 6,
     "metadata": {},
     "output_type": "execute_result"
    }
   ],
   "source": [
    "# split data into train and test sets\n",
    "pred_train, pred_test, tar_train, tar_test = train_test_split(std_predictors, target, \n",
    "                                                              test_size=.3, random_state=123)\n",
    "\n",
    "# specify the lasso regression model\n",
    "model=LassoLarsCV(cv=10, precompute=False).fit(pred_train,tar_train)\n",
    "\n",
    "# print variable names and regression coefficients\n",
    "pd.Series(model.coef_, index=explanatory_vars, name='Regression coefficients').to_frame()"
   ]
  },
  {
   "cell_type": "markdown",
   "metadata": {},
   "source": [
    "From the lasso regression, the *employ rate* and the *urban rate* have been discarded of the explanatory variables list. Then the most influential variables are in order :\n",
    "\n",
    "1. Internet use rate\n",
    "1. Residential electric consumption per person\n",
    "1. Polity score\n",
    "1. Life expectancy"
   ]
  },
  {
   "cell_type": "code",
   "execution_count": 7,
   "metadata": {
    "collapsed": false
   },
   "outputs": [
    {
     "data": {
      "image/png": "[encoded data removed]",
      "text/plain": [
       "<matplotlib.figure.Figure at 0x2c00c0cc9e8>"
      ]
     },
     "metadata": {},
     "output_type": "display_data"
    }
   ],
   "source": [
    "# plot coefficient progression\n",
    "plt.semilogx(model.alphas_, model.coef_path_.T)\n",
    "plt.legend(explanatory_vars)\n",
    "plt.axvline(model.alpha_, linestyle='--', color='k',\n",
    "            label='alpha CV')\n",
    "plt.ylabel('Regression Coefficients')\n",
    "plt.xlabel(r'$\\alpha$')\n",
    "plt.title('Regression Coefficients Progression for Lasso Paths');"
   ]
  },
  {
   "cell_type": "markdown",
   "metadata": {},
   "source": [
    "The plot above showing the evolution of the regression coefficient proves the order of appearance of the four remaining explanatory variables; the *internet use rate* starting right from the beginning as it is the most infuential."
   ]
  },
  {
   "cell_type": "code",
   "execution_count": 8,
   "metadata": {
    "collapsed": false
   },
   "outputs": [
    {
     "data": {
      "image/png": "[encoded data removed]",
      "text/plain": [
       "<matplotlib.figure.Figure at 0x2c012651ba8>"
      ]
     },
     "metadata": {},
     "output_type": "display_data"
    }
   ],
   "source": [
    "# plot mean square error for each fold\n",
    "plt.semilogx(model.cv_alphas_, model.cv_mse_path_, ':')\n",
    "plt.semilogx(model.cv_alphas_, model.cv_mse_path_.mean(axis=-1), 'k',\n",
    "         label='Average across the folds', linewidth=2)\n",
    "plt.axvline(model.alpha_, linestyle='--', color='k',\n",
    "            label='alpha CV')\n",
    "plt.legend()\n",
    "plt.xlabel(r'$\\alpha$')\n",
    "plt.ylabel('Mean squared error')\n",
    "plt.title('Mean squared error on each fold');         "
   ]
  },
  {
   "cell_type": "markdown",
   "metadata": {},
   "source": [
    "Unexpectedly one fold have a rising error with the lasso regression analysis progression. A country may have an unusual combination of parameters explaining it."
   ]
  },
  {
   "cell_type": "code",
   "execution_count": 9,
   "metadata": {
    "collapsed": false
   },
   "outputs": [],
   "source": [
    "# MSE from training and test data\n",
    "from sklearn.metrics import mean_squared_error\n",
    "train_error = mean_squared_error(tar_train, model.predict(pred_train))\n",
    "test_error = mean_squared_error(tar_test, model.predict(pred_test))"
   ]
  },
  {
   "cell_type": "code",
   "execution_count": 10,
   "metadata": {
    "collapsed": false
   },
   "outputs": [],
   "source": [
    "# R-square from training and test data\n",
    "rsquared_train=model.score(pred_train,tar_train)\n",
    "rsquared_test=model.score(pred_test,tar_test)"
   ]
  },
  {
   "cell_type": "code",
   "execution_count": 11,
   "metadata": {
    "collapsed": false
   },
   "outputs": [
    {
     "data": {
      "text/html": [
       "<div>\n",
       "<table border=\"1\" class=\"dataframe\">\n",
       "  <thead>\n",
       "    <tr style=\"text-align: right;\">\n",
       "      <th></th>\n",
       "      <th>MSE</th>\n",
       "      <th>R-square</th>\n",
       "    </tr>\n",
       "  </thead>\n",
       "  <tbody>\n",
       "    <tr>\n",
       "      <th>Training data</th>\n",
       "      <td>2.588138e+07</td>\n",
       "      <td>0.724049</td>\n",
       "    </tr>\n",
       "    <tr>\n",
       "      <th>Test data</th>\n",
       "      <td>4.932894e+07</td>\n",
       "      <td>0.650509</td>\n",
       "    </tr>\n",
       "  </tbody>\n",
       "</table>\n",
       "</div>"
      ],
      "text/plain": [
       "                        MSE  R-square\n",
       "Training data  2.588138e+07  0.724049\n",
       "Test data      4.932894e+07  0.650509"
      ]
     },
     "execution_count": 11,
     "metadata": {},
     "output_type": "execute_result"
    }
   ],
   "source": [
    "pd.DataFrame({'MSE' : [train_error, test_error], 'R-square' : [rsquared_train, rsquared_test]},\n",
    "             index=['Training data', 'Test data'])"
   ]
  },
  {
   "cell_type": "markdown",
   "metadata": {},
   "source": [
    "# Conclusion\n",
    "\n",
    "The lasso regression has discarded two of the six explanatory variables tested here.\n",
    "\n",
    "The accuracy given by R-square is 72% on the training data but 65% on the test data. This means that the model may be slightly overfitted."
   ]
  }
 ],
 "metadata": {
  "anaconda-cloud": {},
  "hide_input": false,
  "kernelspec": {
   "display_name": "Python [Root]",
   "language": "python",
   "name": "Python [Root]"
  },
  "language_info": {
   "codemirror_mode": {
    "name": "ipython",
    "version": 3
   },
   "file_extension": ".py",
   "mimetype": "text/x-python",
   "name": "python",
   "nbconvert_exporter": "python",
   "pygments_lexer": "ipython3",
   "version": "3.5.2"
  },
  "nav_menu": {},
  "toc": {
   "navigate_menu": true,
   "number_sections": false,
   "sideBar": true,
   "threshold": 6,
   "toc_cell": false,
   "toc_section_display": "block",
   "toc_window_display": false
  }
 },
 "nbformat": 4,
 "nbformat_minor": 0
}
