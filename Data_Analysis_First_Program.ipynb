{
 "cells": [
  {
   "cell_type": "markdown",
   "metadata": {},
   "source": [
    "# Writing your first program - Python\n",
    "\n",
    "Following is the Python program I wrote to fulfill the second assignment of the [Data Management and Visualization online course]( https://www.coursera.org/learn/data-visualization/).\n",
    "\n",
    "I decided to use [Jupyter Notebook](http://nbviewer.jupyter.org/github/ipython/ipython/blob/3.x/examples/Notebook/Index.ipynb) as it is a pretty way to write code and present results.\n",
    "\n",
    "## Research question\n",
    "\n",
    "Using the [Gapminder database](http://www.gapminder.org/), I would like to see if an increasing Internet usage results in an increasing suicide rate. A study shows that other factors like unemployment could have a great impact.\n",
    "\n",
    "So for this second assignment, the frequencies of the three following variables will be analyzed:\n",
    "- Internet Usage Rate (per 100 people)\n",
    "- Suicide Rate (per 100 000 people)\n",
    "- Employment Rate (% of the population of age 15+)\n"
   ]
  },
  {
   "cell_type": "markdown",
   "metadata": {},
   "source": [
    "## Data analysis"
   ]
  },
  {
   "cell_type": "code",
   "execution_count": 1,
   "metadata": {
    "collapsed": false,
    "scrolled": true
   },
   "outputs": [],
   "source": [
    "# Load a useful Python libraries for handling data\n",
    "import pandas as pd\n",
    "from IPython.display import Markdown, display"
   ]
  },
  {
   "cell_type": "code",
   "execution_count": 2,
   "metadata": {
    "collapsed": false,
    "scrolled": true
   },
   "outputs": [
    {
     "data": {
      "text/markdown": [
       "General information on the Gapminder data"
      ],
      "text/plain": [
       "<IPython.core.display.Markdown object>"
      ]
     },
     "metadata": {},
     "output_type": "display_data"
    },
    {
     "data": {
      "text/markdown": [
       "Number of countries: 213"
      ],
      "text/plain": [
       "<IPython.core.display.Markdown object>"
      ]
     },
     "metadata": {},
     "output_type": "display_data"
    },
    {
     "data": {
      "text/markdown": [
       "Number of variables: 15"
      ],
      "text/plain": [
       "<IPython.core.display.Markdown object>"
      ]
     },
     "metadata": {},
     "output_type": "display_data"
    }
   ],
   "source": [
    "# Read the data\n",
    "data_filename = r'gapminder.csv'\n",
    "data = pd.read_csv(data_filename, low_memory=False)\n",
    "data = data.set_index('country')\n",
    "\n",
    "display(Markdown(\"General information on the Gapminder data\"))\n",
    "display(Markdown(\"Number of countries: {0}\".format(len(data))))\n",
    "display(Markdown(\"Number of variables: {0}\".format(len(data.columns))))"
   ]
  },
  {
   "cell_type": "code",
   "execution_count": 3,
   "metadata": {
    "collapsed": false,
    "scrolled": true
   },
   "outputs": [
    {
     "data": {
      "text/markdown": [
       "The first records of the data."
      ],
      "text/plain": [
       "<IPython.core.display.Markdown object>"
      ]
     },
     "metadata": {},
     "output_type": "display_data"
    },
    {
     "data": {
      "text/html": [
       "<div>\n",
       "<table border=\"1\" class=\"dataframe\">\n",
       "  <thead>\n",
       "    <tr style=\"text-align: right;\">\n",
       "      <th></th>\n",
       "      <th>incomeperperson</th>\n",
       "      <th>alcconsumption</th>\n",
       "      <th>armedforcesrate</th>\n",
       "      <th>breastcancerper100th</th>\n",
       "      <th>co2emissions</th>\n",
       "      <th>femaleemployrate</th>\n",
       "      <th>hivrate</th>\n",
       "      <th>internetuserate</th>\n",
       "      <th>lifeexpectancy</th>\n",
       "      <th>oilperperson</th>\n",
       "      <th>polityscore</th>\n",
       "      <th>relectricperperson</th>\n",
       "      <th>suicideper100th</th>\n",
       "      <th>employrate</th>\n",
       "      <th>urbanrate</th>\n",
       "    </tr>\n",
       "    <tr>\n",
       "      <th>country</th>\n",
       "      <th></th>\n",
       "      <th></th>\n",
       "      <th></th>\n",
       "      <th></th>\n",
       "      <th></th>\n",
       "      <th></th>\n",
       "      <th></th>\n",
       "      <th></th>\n",
       "      <th></th>\n",
       "      <th></th>\n",
       "      <th></th>\n",
       "      <th></th>\n",
       "      <th></th>\n",
       "      <th></th>\n",
       "      <th></th>\n",
       "    </tr>\n",
       "  </thead>\n",
       "  <tbody>\n",
       "    <tr>\n",
       "      <th>Afghanistan</th>\n",
       "      <td></td>\n",
       "      <td>.03</td>\n",
       "      <td>.5696534</td>\n",
       "      <td>26.8</td>\n",
       "      <td>75944000</td>\n",
       "      <td>25.6000003814697</td>\n",
       "      <td></td>\n",
       "      <td>3.65412162280064</td>\n",
       "      <td>48.673</td>\n",
       "      <td></td>\n",
       "      <td>0</td>\n",
       "      <td></td>\n",
       "      <td>6.68438529968262</td>\n",
       "      <td>55.7000007629394</td>\n",
       "      <td>24.04</td>\n",
       "    </tr>\n",
       "    <tr>\n",
       "      <th>Albania</th>\n",
       "      <td>1914.99655094922</td>\n",
       "      <td>7.29</td>\n",
       "      <td>1.0247361</td>\n",
       "      <td>57.4</td>\n",
       "      <td>223747333.333333</td>\n",
       "      <td>42.0999984741211</td>\n",
       "      <td></td>\n",
       "      <td>44.9899469578783</td>\n",
       "      <td>76.918</td>\n",
       "      <td></td>\n",
       "      <td>9</td>\n",
       "      <td>636.341383366604</td>\n",
       "      <td>7.69932985305786</td>\n",
       "      <td>51.4000015258789</td>\n",
       "      <td>46.72</td>\n",
       "    </tr>\n",
       "    <tr>\n",
       "      <th>Algeria</th>\n",
       "      <td>2231.99333515006</td>\n",
       "      <td>.69</td>\n",
       "      <td>2.306817</td>\n",
       "      <td>23.5</td>\n",
       "      <td>2932108666.66667</td>\n",
       "      <td>31.7000007629394</td>\n",
       "      <td>.1</td>\n",
       "      <td>12.5000733055148</td>\n",
       "      <td>73.131</td>\n",
       "      <td>.42009452521537</td>\n",
       "      <td>2</td>\n",
       "      <td>590.509814347428</td>\n",
       "      <td>4.8487696647644</td>\n",
       "      <td>50.5</td>\n",
       "      <td>65.22</td>\n",
       "    </tr>\n",
       "    <tr>\n",
       "      <th>Andorra</th>\n",
       "      <td>21943.3398976022</td>\n",
       "      <td>10.17</td>\n",
       "      <td></td>\n",
       "      <td></td>\n",
       "      <td></td>\n",
       "      <td></td>\n",
       "      <td></td>\n",
       "      <td>81</td>\n",
       "      <td></td>\n",
       "      <td></td>\n",
       "      <td></td>\n",
       "      <td></td>\n",
       "      <td>5.36217880249023</td>\n",
       "      <td></td>\n",
       "      <td>88.92</td>\n",
       "    </tr>\n",
       "    <tr>\n",
       "      <th>Angola</th>\n",
       "      <td>1381.00426770244</td>\n",
       "      <td>5.57</td>\n",
       "      <td>1.4613288</td>\n",
       "      <td>23.1</td>\n",
       "      <td>248358000</td>\n",
       "      <td>69.4000015258789</td>\n",
       "      <td>2</td>\n",
       "      <td>9.99995388324075</td>\n",
       "      <td>51.093</td>\n",
       "      <td></td>\n",
       "      <td>-2</td>\n",
       "      <td>172.999227388199</td>\n",
       "      <td>14.5546770095825</td>\n",
       "      <td>75.6999969482422</td>\n",
       "      <td>56.7</td>\n",
       "    </tr>\n",
       "  </tbody>\n",
       "</table>\n",
       "</div>"
      ],
      "text/plain": [
       "              incomeperperson alcconsumption armedforcesrate  \\\n",
       "country                                                        \n",
       "Afghanistan                              .03        .5696534   \n",
       "Albania      1914.99655094922           7.29       1.0247361   \n",
       "Algeria      2231.99333515006            .69        2.306817   \n",
       "Andorra      21943.3398976022          10.17                   \n",
       "Angola       1381.00426770244           5.57       1.4613288   \n",
       "\n",
       "            breastcancerper100th      co2emissions  femaleemployrate hivrate  \\\n",
       "country                                                                        \n",
       "Afghanistan                 26.8          75944000  25.6000003814697           \n",
       "Albania                     57.4  223747333.333333  42.0999984741211           \n",
       "Algeria                     23.5  2932108666.66667  31.7000007629394      .1   \n",
       "Andorra                                                                        \n",
       "Angola                      23.1         248358000  69.4000015258789       2   \n",
       "\n",
       "              internetuserate lifeexpectancy     oilperperson polityscore  \\\n",
       "country                                                                     \n",
       "Afghanistan  3.65412162280064         48.673                            0   \n",
       "Albania      44.9899469578783         76.918                            9   \n",
       "Algeria      12.5000733055148         73.131  .42009452521537           2   \n",
       "Andorra                    81                                               \n",
       "Angola       9.99995388324075         51.093                           -2   \n",
       "\n",
       "            relectricperperson   suicideper100th        employrate urbanrate  \n",
       "country                                                                       \n",
       "Afghanistan                     6.68438529968262  55.7000007629394     24.04  \n",
       "Albania       636.341383366604  7.69932985305786  51.4000015258789     46.72  \n",
       "Algeria       590.509814347428   4.8487696647644              50.5     65.22  \n",
       "Andorra                         5.36217880249023                       88.92  \n",
       "Angola        172.999227388199  14.5546770095825  75.6999969482422      56.7  "
      ]
     },
     "execution_count": 3,
     "metadata": {},
     "output_type": "execute_result"
    }
   ],
   "source": [
    "display(Markdown(\"The first records of the data.\"))\n",
    "data.head()"
   ]
  },
  {
   "cell_type": "code",
   "execution_count": 4,
   "metadata": {
    "collapsed": false
   },
   "outputs": [],
   "source": [
    "# Convert interesting variables in numeric format\n",
    "for variable in ('internetuserate', 'suicideper100th', 'employrate'):\n",
    "    data[variable] = pd.to_numeric(data[variable], errors='coerce')"
   ]
  },
  {
   "cell_type": "markdown",
   "metadata": {},
   "source": [
    "We will now have a look at the frequencies of the variables.\n",
    "\n",
    "### Internet use rate frequencies\n",
    "\n",
    "First for the Internet usage, the counts are (including data missing):"
   ]
  },
  {
   "cell_type": "code",
   "execution_count": 5,
   "metadata": {
    "collapsed": false
   },
   "outputs": [
    {
     "data": {
      "text/plain": [
       " 0.720009      1\n",
       " 1.400061      1\n",
       " 2.100213      1\n",
       " 3.654122      1\n",
       " 4.999875      1\n",
       " 5.999836      1\n",
       "NaN           21\n",
       " 7.232224      1\n",
       " 29.879921     1\n",
       " 9.999954      1\n",
       " 1.259934      1\n",
       " 11.090765     1\n",
       " 12.500073     1\n",
       " 13.598876     1\n",
       " 14.830736     1\n",
       " 15.899970     1\n",
       " 90.703555     1\n",
       " 0.829997      1\n",
       " 18.795114     1\n",
       " 2.300027      1\n",
       " 20.001710     1\n",
       " 31.050013     1\n",
       " 16.780037     1\n",
       " 24.999946     1\n",
       " 25.899797     1\n",
       " 26.740025     1\n",
       " 2.259976      1\n",
       " 3.129962      1\n",
       " 29.999940     1\n",
       " 76.587538     1\n",
       "              ..\n",
       " 27.851822     1\n",
       " 1.699985      1\n",
       " 42.692335     1\n",
       " 81.338393     1\n",
       " 12.006692     1\n",
       " 2.450362      1\n",
       " 81.590397     1\n",
       " 80.000000     1\n",
       " 36.422772     1\n",
       " 39.820178     1\n",
       " 13.000111     1\n",
       " 48.516818     1\n",
       " 28.289701     1\n",
       " 9.007736      1\n",
       " 53.024745     1\n",
       " 43.055067     1\n",
       " 61.987413     1\n",
       " 7.930096      1\n",
       " 75.200000     1\n",
       " 44.585355     1\n",
       " 14.000247     1\n",
       " 53.740217     1\n",
       " 0.210066      1\n",
       " 44.570074     1\n",
       " 40.020095     1\n",
       " 2.471948      1\n",
       " 6.965038      1\n",
       " 31.568098     1\n",
       " 20.663156     1\n",
       " 28.999477     1\n",
       "Name: internetuserate, dtype: int64"
      ]
     },
     "execution_count": 5,
     "metadata": {},
     "output_type": "execute_result"
    }
   ],
   "source": [
    "data['internetuserate'].value_counts(sort=False, dropna=False)"
   ]
  },
  {
   "cell_type": "markdown",
   "metadata": {},
   "source": [
    "This is useless as the variable does not take discrete values. So before researching the frequency count on the data, I will group the data in intervals of 5% using the `cut` function."
   ]
  },
  {
   "cell_type": "code",
   "execution_count": 6,
   "metadata": {
    "collapsed": false
   },
   "outputs": [
    {
     "data": {
      "text/markdown": [
       "Internet Use Rate (min, max) = (0.21, 95.64)"
      ],
      "text/plain": [
       "<IPython.core.display.Markdown object>"
      ]
     },
     "metadata": {},
     "output_type": "display_data"
    }
   ],
   "source": [
    "import numpy as np\n",
    "display(Markdown(\"Internet Use Rate (min, max) = ({0:.2f}, {1:.2f})\".format(data['internetuserate'].min(), data['internetuserate'].max())))"
   ]
  },
  {
   "cell_type": "code",
   "execution_count": 7,
   "metadata": {
    "collapsed": false
   },
   "outputs": [],
   "source": [
    "internetuserate_bins = pd.cut(data['internetuserate'], bins=np.linspace(0, 100., num=21))"
   ]
  },
  {
   "cell_type": "markdown",
   "metadata": {},
   "source": [
    "Counts of Internet Use Rate:"
   ]
  },
  {
   "cell_type": "code",
   "execution_count": 8,
   "metadata": {
    "collapsed": false
   },
   "outputs": [
    {
     "data": {
      "text/plain": [
       "(0, 5]       26\n",
       "(5, 10]      23\n",
       "(10, 15]     19\n",
       "(15, 20]      8\n",
       "(20, 25]      6\n",
       "(25, 30]     11\n",
       "(30, 35]      8\n",
       "(35, 40]     10\n",
       "(40, 45]     17\n",
       "(45, 50]      8\n",
       "(50, 55]      7\n",
       "(55, 60]      2\n",
       "(60, 65]      7\n",
       "(65, 70]      7\n",
       "(70, 75]      8\n",
       "(75, 80]      8\n",
       "(80, 85]     10\n",
       "(85, 90]      2\n",
       "(90, 95]      4\n",
       "(95, 100]     1\n",
       "NaN          21\n",
       "dtype: int64"
      ]
     },
     "execution_count": 8,
     "metadata": {},
     "output_type": "execute_result"
    }
   ],
   "source": [
    "internetuserate_bins.value_counts(sort=False, dropna=False)"
   ]
  },
  {
   "cell_type": "markdown",
   "metadata": {},
   "source": [
    "Percentages of Internet Use Rate:"
   ]
  },
  {
   "cell_type": "code",
   "execution_count": 9,
   "metadata": {
    "collapsed": false
   },
   "outputs": [
    {
     "data": {
      "text/plain": [
       "(0, 5]       0.122066\n",
       "(5, 10]      0.107981\n",
       "(10, 15]     0.089202\n",
       "(15, 20]     0.037559\n",
       "(20, 25]     0.028169\n",
       "(25, 30]     0.051643\n",
       "(30, 35]     0.037559\n",
       "(35, 40]     0.046948\n",
       "(40, 45]     0.079812\n",
       "(45, 50]     0.037559\n",
       "(50, 55]     0.032864\n",
       "(55, 60]     0.009390\n",
       "(60, 65]     0.032864\n",
       "(65, 70]     0.032864\n",
       "(70, 75]     0.037559\n",
       "(75, 80]     0.037559\n",
       "(80, 85]     0.046948\n",
       "(85, 90]     0.009390\n",
       "(90, 95]     0.018779\n",
       "(95, 100]    0.004695\n",
       "NaN          0.098592\n",
       "dtype: float64"
      ]
     },
     "execution_count": 9,
     "metadata": {},
     "output_type": "execute_result"
    }
   ],
   "source": [
    "internetuserate_bins.value_counts(sort=False, normalize=True, dropna=False)"
   ]
  },
  {
   "cell_type": "code",
   "execution_count": 10,
   "metadata": {
    "collapsed": false,
    "scrolled": true
   },
   "outputs": [
    {
     "data": {
      "text/markdown": [
       "Cumulative sum for Internet use rate percentages"
      ],
      "text/plain": [
       "<IPython.core.display.Markdown object>"
      ]
     },
     "metadata": {},
     "output_type": "display_data"
    },
    {
     "data": {
      "text/plain": [
       "(0, 5]       0.122066\n",
       "(5, 10]      0.230047\n",
       "(10, 15]     0.319249\n",
       "(15, 20]     0.356808\n",
       "(20, 25]     0.384977\n",
       "(25, 30]     0.436620\n",
       "(30, 35]     0.474178\n",
       "(35, 40]     0.521127\n",
       "(40, 45]     0.600939\n",
       "(45, 50]     0.638498\n",
       "(50, 55]     0.671362\n",
       "(55, 60]     0.680751\n",
       "(60, 65]     0.713615\n",
       "(65, 70]     0.746479\n",
       "(70, 75]     0.784038\n",
       "(75, 80]     0.821596\n",
       "(80, 85]     0.868545\n",
       "(85, 90]     0.877934\n",
       "(90, 95]     0.896714\n",
       "(95, 100]    0.901408\n",
       "NaN          1.000000\n",
       "dtype: float64"
      ]
     },
     "execution_count": 10,
     "metadata": {},
     "output_type": "execute_result"
    }
   ],
   "source": [
    "display(Markdown(\"Cumulative sum for Internet use rate percentages\"))\n",
    "internetuserate_bins.value_counts(sort=False, normalize=True, dropna=False).cumsum()"
   ]
  },
  {
   "cell_type": "markdown",
   "metadata": {},
   "source": [
    "### Suicide rate per 100,000 frequencies"
   ]
  },
  {
   "cell_type": "code",
   "execution_count": 11,
   "metadata": {
    "collapsed": false
   },
   "outputs": [
    {
     "data": {
      "text/markdown": [
       "Suicide rate (min, max) = (0.20, 35.75)"
      ],
      "text/plain": [
       "<IPython.core.display.Markdown object>"
      ]
     },
     "metadata": {},
     "output_type": "display_data"
    }
   ],
   "source": [
    "display(Markdown(\"Suicide rate (min, max) = ({0:.2f}, {1:.2f})\".format(data['suicideper100th'].min(), data['suicideper100th'].max())))"
   ]
  },
  {
   "cell_type": "markdown",
   "metadata": {},
   "source": [
    "Counts of Suicide Rate:"
   ]
  },
  {
   "cell_type": "code",
   "execution_count": 12,
   "metadata": {
    "collapsed": false
   },
   "outputs": [
    {
     "data": {
      "text/plain": [
       "(0, 2]      11\n",
       "(2, 4]      16\n",
       "(4, 6]      32\n",
       "(6, 8]      29\n",
       "(8, 10]     26\n",
       "(10, 12]    24\n",
       "(12, 14]    18\n",
       "(14, 16]    13\n",
       "(16, 18]     4\n",
       "(18, 20]     4\n",
       "(20, 22]     4\n",
       "(22, 24]     2\n",
       "(24, 26]     1\n",
       "(26, 28]     3\n",
       "(28, 30]     2\n",
       "(30, 32]     0\n",
       "(32, 34]     1\n",
       "(34, 36]     1\n",
       "(36, 38]     0\n",
       "(38, 40]     0\n",
       "NaN         22\n",
       "dtype: int64"
      ]
     },
     "execution_count": 12,
     "metadata": {},
     "output_type": "execute_result"
    }
   ],
   "source": [
    "suiciderate_bins = pd.cut(data['suicideper100th'], bins=np.linspace(0, 40., num=21))\n",
    "suiciderate_bins.value_counts(sort=False, dropna=False)"
   ]
  },
  {
   "cell_type": "markdown",
   "metadata": {},
   "source": [
    "Percentages of Suicide Rate:"
   ]
  },
  {
   "cell_type": "code",
   "execution_count": 13,
   "metadata": {
    "collapsed": false,
    "scrolled": true
   },
   "outputs": [
    {
     "data": {
      "text/plain": [
       "(0, 2]      0.051643\n",
       "(2, 4]      0.075117\n",
       "(4, 6]      0.150235\n",
       "(6, 8]      0.136150\n",
       "(8, 10]     0.122066\n",
       "(10, 12]    0.112676\n",
       "(12, 14]    0.084507\n",
       "(14, 16]    0.061033\n",
       "(16, 18]    0.018779\n",
       "(18, 20]    0.018779\n",
       "(20, 22]    0.018779\n",
       "(22, 24]    0.009390\n",
       "(24, 26]    0.004695\n",
       "(26, 28]    0.014085\n",
       "(28, 30]    0.009390\n",
       "(30, 32]    0.000000\n",
       "(32, 34]    0.004695\n",
       "(34, 36]    0.004695\n",
       "(36, 38]    0.000000\n",
       "(38, 40]    0.000000\n",
       "NaN         0.103286\n",
       "dtype: float64"
      ]
     },
     "execution_count": 13,
     "metadata": {},
     "output_type": "execute_result"
    }
   ],
   "source": [
    "suiciderate_bins.value_counts(sort=False, normalize=True, dropna=False)"
   ]
  },
  {
   "cell_type": "markdown",
   "metadata": {},
   "source": [
    "###  Employment rate frequencies"
   ]
  },
  {
   "cell_type": "code",
   "execution_count": 14,
   "metadata": {
    "collapsed": false
   },
   "outputs": [
    {
     "data": {
      "text/markdown": [
       "Employment rate (min, max) = (32.00, 83.20)"
      ],
      "text/plain": [
       "<IPython.core.display.Markdown object>"
      ]
     },
     "metadata": {},
     "output_type": "display_data"
    }
   ],
   "source": [
    "display(Markdown(\"Employment rate (min, max) = ({0:.2f}, {1:.2f})\".format(data['employrate'].min(), data['employrate'].max())))"
   ]
  },
  {
   "cell_type": "markdown",
   "metadata": {},
   "source": [
    "Counts of Employment Rate:"
   ]
  },
  {
   "cell_type": "code",
   "execution_count": 15,
   "metadata": {
    "collapsed": false
   },
   "outputs": [
    {
     "data": {
      "text/plain": [
       "(0, 5]        0\n",
       "(5, 10]       0\n",
       "(10, 15]      0\n",
       "(15, 20]      0\n",
       "(20, 25]      0\n",
       "(25, 30]      0\n",
       "(30, 35]      2\n",
       "(35, 40]      3\n",
       "(40, 45]     14\n",
       "(45, 50]     18\n",
       "(50, 55]     23\n",
       "(55, 60]     44\n",
       "(60, 65]     32\n",
       "(65, 70]     15\n",
       "(70, 75]     13\n",
       "(75, 80]      8\n",
       "(80, 85]      6\n",
       "(85, 90]      0\n",
       "(90, 95]      0\n",
       "(95, 100]     0\n",
       "NaN          35\n",
       "dtype: int64"
      ]
     },
     "execution_count": 15,
     "metadata": {},
     "output_type": "execute_result"
    }
   ],
   "source": [
    "employment_bins = pd.cut(data['employrate'], bins=np.linspace(0, 100., num=21))\n",
    "employment_bins.value_counts(sort=False, dropna=False)"
   ]
  },
  {
   "cell_type": "markdown",
   "metadata": {},
   "source": [
    "Percentages of Employment Rate:"
   ]
  },
  {
   "cell_type": "code",
   "execution_count": 16,
   "metadata": {
    "collapsed": false,
    "scrolled": true
   },
   "outputs": [
    {
     "data": {
      "text/plain": [
       "(0, 5]       0.000000\n",
       "(5, 10]      0.000000\n",
       "(10, 15]     0.000000\n",
       "(15, 20]     0.000000\n",
       "(20, 25]     0.000000\n",
       "(25, 30]     0.000000\n",
       "(30, 35]     0.009390\n",
       "(35, 40]     0.014085\n",
       "(40, 45]     0.065728\n",
       "(45, 50]     0.084507\n",
       "(50, 55]     0.107981\n",
       "(55, 60]     0.206573\n",
       "(60, 65]     0.150235\n",
       "(65, 70]     0.070423\n",
       "(70, 75]     0.061033\n",
       "(75, 80]     0.037559\n",
       "(80, 85]     0.028169\n",
       "(85, 90]     0.000000\n",
       "(90, 95]     0.000000\n",
       "(95, 100]    0.000000\n",
       "NaN          0.164319\n",
       "dtype: float64"
      ]
     },
     "execution_count": 16,
     "metadata": {},
     "output_type": "execute_result"
    }
   ],
   "source": [
    "employment_bins.value_counts(sort=False, normalize=True, dropna=False)"
   ]
  },
  {
   "cell_type": "markdown",
   "metadata": {
    "collapsed": true
   },
   "source": [
    "## Summary\n",
    "\n",
    "The Gapminder data based provides information for 213 countries. Unfortunately for all three variables analyzed here (Internet Use Rate, Suicide rate and employment rate) data are missing; e.g. the internet use rate is unknown for 21 countries.\n",
    "\n",
    "The distribution of the variables is as follow:\n",
    "- Internet Use Rate per 100 people\n",
    "    * Data missing for 21 countries\n",
    "    * Rate ranges from 0.21 to 95.64\n",
    "    * The majority of the countries have a rate below 50\n",
    "- Suicide Rate per 100 000\n",
    "    * Data missing for 22 countries\n",
    "    * Rate ranges from 0.2 to 35.75\n",
    "    * The rate is more often between 4 and 12\n",
    "- Employment Rate for age 15+\n",
    "    * Data missing for 35 countries\n",
    "    * Rate ranges from 32 to 83.2\n",
    "    * For most of the countries the rate lies between 50 and 65\n",
    "\n",
    "\n",
    "A possible refinement could to analyze only the country with an high employment rate (like > 60%) to suppress the economical influence.\n",
    "The data filtering would then be done as follow:"
   ]
  },
  {
   "cell_type": "code",
   "execution_count": 17,
   "metadata": {
    "collapsed": false
   },
   "outputs": [
    {
     "data": {
      "text/html": [
       "<div>\n",
       "<table border=\"1\" class=\"dataframe\">\n",
       "  <thead>\n",
       "    <tr style=\"text-align: right;\">\n",
       "      <th></th>\n",
       "      <th>incomeperperson</th>\n",
       "      <th>alcconsumption</th>\n",
       "      <th>armedforcesrate</th>\n",
       "      <th>breastcancerper100th</th>\n",
       "      <th>co2emissions</th>\n",
       "      <th>femaleemployrate</th>\n",
       "      <th>hivrate</th>\n",
       "      <th>internetuserate</th>\n",
       "      <th>lifeexpectancy</th>\n",
       "      <th>oilperperson</th>\n",
       "      <th>polityscore</th>\n",
       "      <th>relectricperperson</th>\n",
       "      <th>suicideper100th</th>\n",
       "      <th>employrate</th>\n",
       "      <th>urbanrate</th>\n",
       "    </tr>\n",
       "    <tr>\n",
       "      <th>country</th>\n",
       "      <th></th>\n",
       "      <th></th>\n",
       "      <th></th>\n",
       "      <th></th>\n",
       "      <th></th>\n",
       "      <th></th>\n",
       "      <th></th>\n",
       "      <th></th>\n",
       "      <th></th>\n",
       "      <th></th>\n",
       "      <th></th>\n",
       "      <th></th>\n",
       "      <th></th>\n",
       "      <th></th>\n",
       "      <th></th>\n",
       "    </tr>\n",
       "  </thead>\n",
       "  <tbody>\n",
       "    <tr>\n",
       "      <th>Angola</th>\n",
       "      <td>1381.00426770244</td>\n",
       "      <td>5.57</td>\n",
       "      <td>1.4613288</td>\n",
       "      <td>23.1</td>\n",
       "      <td>248358000</td>\n",
       "      <td>69.4000015258789</td>\n",
       "      <td>2</td>\n",
       "      <td>9.999954</td>\n",
       "      <td>51.093</td>\n",
       "      <td></td>\n",
       "      <td>-2</td>\n",
       "      <td>172.999227388199</td>\n",
       "      <td>14.554677</td>\n",
       "      <td>75.699997</td>\n",
       "      <td>56.7</td>\n",
       "    </tr>\n",
       "    <tr>\n",
       "      <th>Australia</th>\n",
       "      <td>25249.98606148</td>\n",
       "      <td>10.21</td>\n",
       "      <td>.4862799</td>\n",
       "      <td>83.2</td>\n",
       "      <td>12970092666.6667</td>\n",
       "      <td>54.5999984741211</td>\n",
       "      <td>.1</td>\n",
       "      <td>75.895654</td>\n",
       "      <td>81.907</td>\n",
       "      <td>1.91302610912404</td>\n",
       "      <td>10</td>\n",
       "      <td>2825.39109539914</td>\n",
       "      <td>8.470030</td>\n",
       "      <td>61.500000</td>\n",
       "      <td>88.74</td>\n",
       "    </tr>\n",
       "    <tr>\n",
       "      <th>Azerbaijan</th>\n",
       "      <td>2344.89691619809</td>\n",
       "      <td>13.34</td>\n",
       "      <td>1.9767462</td>\n",
       "      <td>31.5</td>\n",
       "      <td>511107666.666667</td>\n",
       "      <td>56.2000007629394</td>\n",
       "      <td>.1</td>\n",
       "      <td>46.679702</td>\n",
       "      <td>70.739</td>\n",
       "      <td>.35917260997566</td>\n",
       "      <td>-7</td>\n",
       "      <td>921.562110759901</td>\n",
       "      <td>1.380965</td>\n",
       "      <td>60.900002</td>\n",
       "      <td>51.92</td>\n",
       "    </tr>\n",
       "    <tr>\n",
       "      <th>Bahamas</th>\n",
       "      <td>19630.5405471267</td>\n",
       "      <td>8.65</td>\n",
       "      <td>.5452863</td>\n",
       "      <td>54.4</td>\n",
       "      <td>137555000</td>\n",
       "      <td>60.7000007629394</td>\n",
       "      <td>3.1</td>\n",
       "      <td>42.984580</td>\n",
       "      <td>75.62</td>\n",
       "      <td></td>\n",
       "      <td></td>\n",
       "      <td></td>\n",
       "      <td>3.374416</td>\n",
       "      <td>66.599998</td>\n",
       "      <td>83.7</td>\n",
       "    </tr>\n",
       "    <tr>\n",
       "      <th>Bahrain</th>\n",
       "      <td>12505.2125447354</td>\n",
       "      <td>4.19</td>\n",
       "      <td>5.2311429</td>\n",
       "      <td>40.2</td>\n",
       "      <td>503994333.333333</td>\n",
       "      <td>30.2000007629394</td>\n",
       "      <td></td>\n",
       "      <td>54.992809</td>\n",
       "      <td>75.057</td>\n",
       "      <td></td>\n",
       "      <td>-7</td>\n",
       "      <td>7314.3556367342</td>\n",
       "      <td>4.414990</td>\n",
       "      <td>60.400002</td>\n",
       "      <td>88.52</td>\n",
       "    </tr>\n",
       "  </tbody>\n",
       "</table>\n",
       "</div>"
      ],
      "text/plain": [
       "             incomeperperson alcconsumption armedforcesrate  \\\n",
       "country                                                       \n",
       "Angola      1381.00426770244           5.57       1.4613288   \n",
       "Australia     25249.98606148          10.21        .4862799   \n",
       "Azerbaijan  2344.89691619809          13.34       1.9767462   \n",
       "Bahamas     19630.5405471267           8.65        .5452863   \n",
       "Bahrain     12505.2125447354           4.19       5.2311429   \n",
       "\n",
       "           breastcancerper100th      co2emissions  femaleemployrate hivrate  \\\n",
       "country                                                                       \n",
       "Angola                     23.1         248358000  69.4000015258789       2   \n",
       "Australia                  83.2  12970092666.6667  54.5999984741211      .1   \n",
       "Azerbaijan                 31.5  511107666.666667  56.2000007629394      .1   \n",
       "Bahamas                    54.4         137555000  60.7000007629394     3.1   \n",
       "Bahrain                    40.2  503994333.333333  30.2000007629394           \n",
       "\n",
       "            internetuserate lifeexpectancy      oilperperson polityscore  \\\n",
       "country                                                                    \n",
       "Angola             9.999954         51.093                            -2   \n",
       "Australia         75.895654         81.907  1.91302610912404          10   \n",
       "Azerbaijan        46.679702         70.739   .35917260997566          -7   \n",
       "Bahamas           42.984580          75.62                                 \n",
       "Bahrain           54.992809         75.057                            -7   \n",
       "\n",
       "           relectricperperson  suicideper100th  employrate urbanrate  \n",
       "country                                                               \n",
       "Angola       172.999227388199        14.554677   75.699997      56.7  \n",
       "Australia    2825.39109539914         8.470030   61.500000     88.74  \n",
       "Azerbaijan   921.562110759901         1.380965   60.900002     51.92  \n",
       "Bahamas                               3.374416   66.599998      83.7  \n",
       "Bahrain       7314.3556367342         4.414990   60.400002     88.52  "
      ]
     },
     "execution_count": 17,
     "metadata": {},
     "output_type": "execute_result"
    }
   ],
   "source": [
    "high_employment_set = data[data['employrate'] > 60.0]\n",
    "high_employment_set.head()"
   ]
  },
  {
   "cell_type": "markdown",
   "metadata": {},
   "source": [
    "> If you are interested by the subject, follow me on [Tumblr](http://fcollonval.tumblr.com/)."
   ]
  }
 ],
 "metadata": {
  "hide_input": false,
  "kernelspec": {
   "display_name": "Python 3",
   "language": "python",
   "name": "python3"
  },
  "language_info": {
   "codemirror_mode": {
    "name": "ipython",
    "version": 3
   },
   "file_extension": ".py",
   "mimetype": "text/x-python",
   "name": "python",
   "nbconvert_exporter": "python",
   "pygments_lexer": "ipython3",
   "version": "3.4.4"
  },
  "toc": {
   "toc_cell": false,
   "toc_number_sections": true,
   "toc_threshold": "3",
   "toc_window_display": false
  }
 },
 "nbformat": 4,
 "nbformat_minor": 0
}
