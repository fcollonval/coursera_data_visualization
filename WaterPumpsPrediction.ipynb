{
 "cells": [
  {
   "cell_type": "markdown",
   "metadata": {},
   "source": [
    "# Prediction of Tanzanian water pumps functional status\n",
    "\n",
    "This study will focus on identifying the functional status (functional, needs repair or non-functional) of Tanzanian water pumps. The possible explanatory variables will be location, construction year, funder, type of extraction, water quality and quantity, population using it and management organization.\n",
    "\n",
    "I picked up this challenge from the [DrivenData](https://www.drivendata.org/) competitions list because it shows a direct and pratical application of how statistical analysis can help improve services and products quality. And as an engineer, those goals will be definitely the basis of any data science case I will have to solve. Moreover, as lots of possible explanatory variables are available, this will give me the chance to apply advance tools I learnt during the [Data Analysis and Interpretation online Specialization](https://www.coursera.org/specializations/data-analysis).\n",
    "\n",
    "Predicting accurately the water pumps functional status will help planning maintenance earlier. That in turn will increase the availability of the water point and thus the quality of life for the people depending on those water supplies."
   ]
  },
  {
   "cell_type": "markdown",
   "metadata": {
    "collapsed": true
   },
   "source": [
    "## Methods\n",
    "\n",
    "### Sample\n",
    "\n",
    "The database contains 74,250 records of water points information from the Tanzania Ministry of Water. The records were made between October 2002 and December 2013.\n",
    "\n",
    "### Measures\n",
    "\n",
    "The functional status of the water points are categorized in three groups: functional, functional needs repair and non functional. As a hierarchy can be associated to those category, a quantitative variable will be created associating the value 0 as non functional, 1 as functional needs repair and 2 as functional.\n",
    "\n",
    "The potential predictors will be:\n",
    "\n",
    "- The amount of water available; missing data are coded as 0, they will be coded as NaN.\n",
    "- The organization having funded the well; from the various actors, the 9 most funders will be kept and the others will be gathered in an unique category.\n",
    "- The installer of the well; from the various actors, the 9 most funders will be kept and the others will be gathered in an unique category.\n",
    "- The GPS coordinates (height, longitude and latitude); missing data are coded as 0, they will be coded as NaN.\n",
    "- The geographic water basin\n",
    "- The geographic region\n",
    "- The population around the well; missing data are coded as 0, they will be coded as NaN.\n",
    "- Organization of public meeting at the water point; dichotomic variable (True/False)\n",
    "- The operator of the waterpoint\n",
    "- The management of the waterpoint\n",
    "- Is the waterpoint is permitted\n",
    "- Year the waterpoint was constructed; missing data are coded as 0, they will be coded as NaN.\n",
    "- The kind of extraction the waterpoint uses\n",
    "- How payment are handled?\n",
    "- The quality of the water\n",
    "- The quantity of the water\n",
    "- The source of the water\n",
    "- The type of water point\n",
    "\n",
    "### Analyses\n",
    "\n",
    "The distributions of the response and explanatory variables will be evaluated by looking at the frequency tables for categorical variables and by calculating statistical values (mean, standard deviation, minimum and maximum) for quantitative variables.\n",
    "\n",
    "Bivariate associations will be analyzed by visualizing scatter and box plots. And possible bivariate associations between the explanatory variables and the functional status of the water point will be tested using Pearson correlation (when testing a quantitative variable) or the Analysis of variance, ANOVA, when testing a categorical variable.\n",
    "\n",
    "The random forest method will be applied to identify the best subset of predictors. The DrivenData competition has split the database in a training set containing 80% of the records and 20% are kept for testing by submission on the website.\n",
    "\n",
    "`TODO continue`\n",
    "\n",
    "> This Jupyter notebook will be the basis for the final report for the [Data Analysis and Interpretation Specialization](https://www.coursera.org/specializations/data-analysis)"
   ]
  },
  {
   "cell_type": "code",
   "execution_count": null,
   "metadata": {
    "collapsed": true
   },
   "outputs": [],
   "source": []
  }
 ],
 "metadata": {
  "anaconda-cloud": {},
  "hide_input": false,
  "kernelspec": {
   "display_name": "Python [default]",
   "language": "python",
   "name": "python3"
  },
  "language_info": {
   "codemirror_mode": {
    "name": "ipython",
    "version": 3
   },
   "file_extension": ".py",
   "mimetype": "text/x-python",
   "name": "python",
   "nbconvert_exporter": "python",
   "pygments_lexer": "ipython3",
   "version": "3.5.2"
  },
  "nav_menu": {},
  "toc": {
   "navigate_menu": true,
   "number_sections": false,
   "sideBar": true,
   "threshold": 6,
   "toc_cell": false,
   "toc_section_display": "block",
   "toc_window_display": false
  }
 },
 "nbformat": 4,
 "nbformat_minor": 1
}
