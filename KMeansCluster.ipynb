{
 "cells": [
  {
   "cell_type": "markdown",
   "metadata": {},
   "source": [
    "# Machine Learning for Data Analysis\n",
    "# Assignment: Running a k-Means Cluster Analysis\n",
    "\n",
    "Following is the Python program I wrote to fulfill the last assignment of the [Machine Learning for Data Analysis online course](https://www.coursera.org/learn/machine-learning-data-analysis/home/welcome).\n",
    "\n",
    "I decided to use [Jupyter Notebook](http://nbviewer.jupyter.org/github/ipython/ipython/blob/3.x/examples/Notebook/Index.ipynb) as it is a pretty way to write code and present results.\n",
    "\n",
    "## Assignment research question\n",
    "\n",
    "I decided to use the same research question than for the previous assignment on [Lasso regression](LassoRegression.ipynb) analysis.\n",
    "\n",
    "Using the [Gapminder database](http://www.gapminder.org/), I would like to see the variables that are the most influencing income per person (2010 GDP per capita in constant 2000 US$). It will therefore be my test variable.\n",
    "\n",
    "The cluster analysis will be carried out on the following variables:\n",
    "- Residential electricity consumption (per person in kWh)\n",
    "- CO2 emissions (in metric tons)\n",
    "- Employment rate (total employees age 15+ in % of the population)\n",
    "- Internet use rate (Internet users per 100 people)\n",
    "- Life expectancy (Life expectancy at birth in years)\n",
    "- Polity score (Democracy score; the scale ranges from -10 (the lowest) to 10 (the highest))\n",
    "- Urban rate (Urban population in %)\n",
    "\n",
    "\n",
    "## Data management\n",
    "\n",
    "The countries for which data are missing will be discarded. As missing data in Gapminder database are replaced directly by `NaN` no special data treatment is needed."
   ]
  },
  {
   "cell_type": "code",
   "execution_count": 1,
   "metadata": {
    "collapsed": false
   },
   "outputs": [],
   "source": [
    "# Magic command to insert the graph directly in the notebook\n",
    "%matplotlib inline\n",
    "# Load a useful Python libraries for handling data\n",
    "import pandas as pd\n",
    "import numpy as np\n",
    "import seaborn as sns\n",
    "import matplotlib.pyplot as plt\n",
    "from IPython.display import Markdown, display\n",
    "\n",
    "from sklearn.cross_validation import train_test_split\n",
    "from sklearn import preprocessing\n",
    "from sklearn.cluster import KMeans"
   ]
  },
  {
   "cell_type": "code",
   "execution_count": 2,
   "metadata": {
    "collapsed": false
   },
   "outputs": [],
   "source": [
    "# Read the data\n",
    "data_filename = r'gapminder.csv'\n",
    "data = pd.read_csv(data_filename)\n",
    "data = data.set_index('country')"
   ]
  },
  {
   "cell_type": "markdown",
   "metadata": {},
   "source": [
    "General information on the Gapminder data"
   ]
  },
  {
   "cell_type": "code",
   "execution_count": 3,
   "metadata": {
    "collapsed": false
   },
   "outputs": [
    {
     "data": {
      "text/markdown": [
       "Number of countries: 213"
      ],
      "text/plain": [
       "<IPython.core.display.Markdown object>"
      ]
     },
     "metadata": {},
     "output_type": "display_data"
    }
   ],
   "source": [
    "display(Markdown(\"Number of countries: {}\".format(len(data))))"
   ]
  },
  {
   "cell_type": "markdown",
   "metadata": {},
   "source": [
    "## Predictors selections and standardization"
   ]
  },
  {
   "cell_type": "code",
   "execution_count": 4,
   "metadata": {
    "collapsed": false
   },
   "outputs": [
    {
     "data": {
      "text/markdown": [
       "Number of countries after discarding countries with missing data: 122"
      ],
      "text/plain": [
       "<IPython.core.display.Markdown object>"
      ]
     },
     "metadata": {},
     "output_type": "display_data"
    }
   ],
   "source": [
    "explanatory_vars = ['employrate', 'urbanrate', 'polityscore', 'lifeexpectancy', 'internetuserate', 'relectricperperson']\n",
    "test_var = 'incomeperperson'\n",
    "\n",
    "constructor_dict = dict()\n",
    "for var in explanatory_vars + [test_var, ]:\n",
    "    constructor_dict[var] = pd.to_numeric(data[var], errors='coerce')\n",
    "\n",
    "numeric_data = pd.DataFrame(constructor_dict, index=data.index).dropna()\n",
    "\n",
    "display(Markdown(\"Number of countries after discarding countries with missing data: {}\".format(len(numeric_data))))"
   ]
  },
  {
   "cell_type": "code",
   "execution_count": 5,
   "metadata": {
    "collapsed": false
   },
   "outputs": [
    {
     "data": {
      "text/html": [
       "<div>\n",
       "<table border=\"1\" class=\"dataframe\">\n",
       "  <thead>\n",
       "    <tr style=\"text-align: right;\">\n",
       "      <th></th>\n",
       "      <th>employrate</th>\n",
       "      <th>urbanrate</th>\n",
       "      <th>polityscore</th>\n",
       "      <th>lifeexpectancy</th>\n",
       "      <th>internetuserate</th>\n",
       "      <th>relectricperperson</th>\n",
       "    </tr>\n",
       "  </thead>\n",
       "  <tbody>\n",
       "    <tr>\n",
       "      <th>count</th>\n",
       "      <td>1.220000e+02</td>\n",
       "      <td>1.220000e+02</td>\n",
       "      <td>1.220000e+02</td>\n",
       "      <td>1.220000e+02</td>\n",
       "      <td>1.220000e+02</td>\n",
       "      <td>1.220000e+02</td>\n",
       "    </tr>\n",
       "    <tr>\n",
       "      <th>mean</th>\n",
       "      <td>2.966662e-16</td>\n",
       "      <td>-1.255826e-16</td>\n",
       "      <td>-7.280151e-18</td>\n",
       "      <td>6.151728e-16</td>\n",
       "      <td>-1.674435e-16</td>\n",
       "      <td>3.458072e-17</td>\n",
       "    </tr>\n",
       "    <tr>\n",
       "      <th>std</th>\n",
       "      <td>1.004124e+00</td>\n",
       "      <td>1.004124e+00</td>\n",
       "      <td>1.004124e+00</td>\n",
       "      <td>1.004124e+00</td>\n",
       "      <td>1.004124e+00</td>\n",
       "      <td>1.004124e+00</td>\n",
       "    </tr>\n",
       "    <tr>\n",
       "      <th>min</th>\n",
       "      <td>-2.213732e+00</td>\n",
       "      <td>-2.320113e+00</td>\n",
       "      <td>-2.276661e+00</td>\n",
       "      <td>-2.662916e+00</td>\n",
       "      <td>-1.374107e+00</td>\n",
       "      <td>-6.952002e-01</td>\n",
       "    </tr>\n",
       "    <tr>\n",
       "      <th>25%</th>\n",
       "      <td>-7.111398e-01</td>\n",
       "      <td>-6.144084e-01</td>\n",
       "      <td>-6.913150e-01</td>\n",
       "      <td>-4.067152e-01</td>\n",
       "      <td>-9.480402e-01</td>\n",
       "      <td>-5.613602e-01</td>\n",
       "    </tr>\n",
       "    <tr>\n",
       "      <th>50%</th>\n",
       "      <td>5.781782e-02</td>\n",
       "      <td>1.349639e-01</td>\n",
       "      <td>4.184275e-01</td>\n",
       "      <td>2.442529e-01</td>\n",
       "      <td>-8.308699e-02</td>\n",
       "      <td>-3.570663e-01</td>\n",
       "    </tr>\n",
       "    <tr>\n",
       "      <th>75%</th>\n",
       "      <td>5.686445e-01</td>\n",
       "      <td>6.746787e-01</td>\n",
       "      <td>8.543977e-01</td>\n",
       "      <td>7.129940e-01</td>\n",
       "      <td>8.859429e-01</td>\n",
       "      <td>1.949836e-01</td>\n",
       "    </tr>\n",
       "    <tr>\n",
       "      <th>max</th>\n",
       "      <td>2.492397e+00</td>\n",
       "      <td>1.935811e+00</td>\n",
       "      <td>8.940314e-01</td>\n",
       "      <td>1.394599e+00</td>\n",
       "      <td>2.020079e+00</td>\n",
       "      <td>6.239523e+00</td>\n",
       "    </tr>\n",
       "  </tbody>\n",
       "</table>\n",
       "</div>"
      ],
      "text/plain": [
       "         employrate     urbanrate   polityscore  lifeexpectancy  \\\n",
       "count  1.220000e+02  1.220000e+02  1.220000e+02    1.220000e+02   \n",
       "mean   2.966662e-16 -1.255826e-16 -7.280151e-18    6.151728e-16   \n",
       "std    1.004124e+00  1.004124e+00  1.004124e+00    1.004124e+00   \n",
       "min   -2.213732e+00 -2.320113e+00 -2.276661e+00   -2.662916e+00   \n",
       "25%   -7.111398e-01 -6.144084e-01 -6.913150e-01   -4.067152e-01   \n",
       "50%    5.781782e-02  1.349639e-01  4.184275e-01    2.442529e-01   \n",
       "75%    5.686445e-01  6.746787e-01  8.543977e-01    7.129940e-01   \n",
       "max    2.492397e+00  1.935811e+00  8.940314e-01    1.394599e+00   \n",
       "\n",
       "       internetuserate  relectricperperson  \n",
       "count     1.220000e+02        1.220000e+02  \n",
       "mean     -1.674435e-16        3.458072e-17  \n",
       "std       1.004124e+00        1.004124e+00  \n",
       "min      -1.374107e+00       -6.952002e-01  \n",
       "25%      -9.480402e-01       -5.613602e-01  \n",
       "50%      -8.308699e-02       -3.570663e-01  \n",
       "75%       8.859429e-01        1.949836e-01  \n",
       "max       2.020079e+00        6.239523e+00  "
      ]
     },
     "execution_count": 5,
     "metadata": {},
     "output_type": "execute_result"
    }
   ],
   "source": [
    "predictors = numeric_data[explanatory_vars]\n",
    "\n",
    "target = numeric_data[test_var]\n",
    "\n",
    "# Standardize predictors to have mean=0 and std=1\n",
    "std_predictors = predictors.copy()\n",
    "\n",
    "for var in std_predictors.columns:\n",
    "    std_predictors[var] = preprocessing.scale(std_predictors[var].astype('float64'))\n",
    "    \n",
    "# Check standardization\n",
    "std_predictors.describe()"
   ]
  },
  {
   "cell_type": "markdown",
   "metadata": {},
   "source": [
    "The table above proves the explanatory variables have been standardized (i.e. mean=0 and std=1).\n",
    "\n",
    "Next the data will be split in two sets; the training set (70% of the data) and the test set (the remaining 30%)."
   ]
  },
  {
   "cell_type": "code",
   "execution_count": 6,
   "metadata": {
    "collapsed": true
   },
   "outputs": [],
   "source": [
    "# split data into train and test sets\n",
    "cluster_train, cluster_test = train_test_split(std_predictors, \n",
    "                                               test_size=.3, \n",
    "                                               random_state=123)"
   ]
  },
  {
   "cell_type": "markdown",
   "metadata": {},
   "source": [
    "We will now perform a k-means cluster analysis for 1 to 10 clusters."
   ]
  },
  {
   "cell_type": "code",
   "execution_count": 7,
   "metadata": {
    "collapsed": true
   },
   "outputs": [],
   "source": [
    "from scipy.spatial.distance import cdist\n",
    "clusters = range(10)\n",
    "meandist = list()\n",
    "\n",
    "for k in clusters:\n",
    "    model = KMeans(n_clusters=k+1)\n",
    "    model.fit(cluster_train)\n",
    "#     clusterassign = model.predict(cluster_train)\n",
    "    meandist.append(sum(np.min(cdist(cluster_train, \n",
    "                                     model.cluster_centers_, \n",
    "                                     'euclidean'),\n",
    "                               axis=1))\n",
    "                    / cluster_train.shape[0])"
   ]
  },
  {
   "cell_type": "code",
   "execution_count": 8,
   "metadata": {
    "collapsed": false,
    "scrolled": true
   },
   "outputs": [
    {
     "data": {
      "image/png": "[encoded data removed]",
      "text/plain": [
       "<matplotlib.figure.Figure at 0x169edb6f940>"
      ]
     },
     "metadata": {},
     "output_type": "display_data"
    }
   ],
   "source": [
    "plt.plot(clusters, meandist)\n",
    "plt.xlabel('Number of clusters')\n",
    "plt.ylabel('Average distance')\n",
    "plt.title('Selecting k with the Elbow Method');"
   ]
  },
  {
   "cell_type": "markdown",
   "metadata": {},
   "source": [
    "The elbow seems to be at 2 clusters in the figure above. But we will try the 3 clusters solution as it is a better case to use the canonical variables visualization."
   ]
  },
  {
   "cell_type": "markdown",
   "metadata": {},
   "source": [
    "## Interpret 3 clusters solution"
   ]
  },
  {
   "cell_type": "code",
   "execution_count": 9,
   "metadata": {
    "collapsed": false
   },
   "outputs": [],
   "source": [
    "model3=KMeans(n_clusters=3)\n",
    "model3.fit(cluster_train)\n",
    "clusassign=model3.predict(cluster_train)"
   ]
  },
  {
   "cell_type": "code",
   "execution_count": 10,
   "metadata": {
    "collapsed": false
   },
   "outputs": [
    {
     "data": {
      "image/png": "[encoded data removed]",
      "text/plain": [
       "<matplotlib.figure.Figure at 0x169ee72ff60>"
      ]
     },
     "metadata": {},
     "output_type": "display_data"
    }
   ],
   "source": [
    "# plot clusters\n",
    "color_map = {0 : 'r', 1 : 'b', 2 : 'g'}\n",
    "def color(x):\n",
    "    return color_map[x]\n",
    "colors = list(map(color, model3.labels_))\n",
    "\n",
    "from sklearn.decomposition import PCA\n",
    "pca_2 = PCA(2)\n",
    "plot_columns = pca_2.fit_transform(cluster_train)\n",
    "plt.scatter(x=plot_columns[:,0], y=plot_columns[:,1], c=colors)\n",
    "plt.xlabel('Canonical variable 1')\n",
    "plt.ylabel('Canonical variable 2')\n",
    "plt.title('Scatterplot of Canonical Variables for 3 Clusters');"
   ]
  },
  {
   "cell_type": "markdown",
   "metadata": {},
   "source": [
    "From the evolution of the distance with the number of clusters, it was seen that 2 or 3 clusters seems the best division.\n",
    "The visualization above of the three clusters (group 0 in red, 1 in blue and 2 in green) tends to favor a two clusters approach due to the overlapping of group 1 and 2."
   ]
  },
  {
   "cell_type": "code",
   "execution_count": 11,
   "metadata": {
    "collapsed": false
   },
   "outputs": [
    {
     "data": {
      "text/html": [
       "<div>\n",
       "<table border=\"1\" class=\"dataframe\">\n",
       "  <thead>\n",
       "    <tr style=\"text-align: right;\">\n",
       "      <th>country</th>\n",
       "      <th>Portugal</th>\n",
       "      <th>Venezuela</th>\n",
       "      <th>Pakistan</th>\n",
       "      <th>Yemen, Rep.</th>\n",
       "      <th>United Kingdom</th>\n",
       "      <th>China</th>\n",
       "      <th>Belgium</th>\n",
       "      <th>Greece</th>\n",
       "      <th>Sri Lanka</th>\n",
       "      <th>Tunisia</th>\n",
       "      <th>...</th>\n",
       "      <th>Philippines</th>\n",
       "      <th>Jamaica</th>\n",
       "      <th>Togo</th>\n",
       "      <th>Panama</th>\n",
       "      <th>Cambodia</th>\n",
       "      <th>Syria</th>\n",
       "      <th>Spain</th>\n",
       "      <th>Saudi Arabia</th>\n",
       "      <th>Libya</th>\n",
       "      <th>Turkey</th>\n",
       "    </tr>\n",
       "  </thead>\n",
       "  <tbody>\n",
       "    <tr>\n",
       "      <th>cluster</th>\n",
       "      <td>0</td>\n",
       "      <td>2</td>\n",
       "      <td>1</td>\n",
       "      <td>2</td>\n",
       "      <td>0</td>\n",
       "      <td>1</td>\n",
       "      <td>0</td>\n",
       "      <td>0</td>\n",
       "      <td>1</td>\n",
       "      <td>2</td>\n",
       "      <td>...</td>\n",
       "      <td>1</td>\n",
       "      <td>1</td>\n",
       "      <td>1</td>\n",
       "      <td>0</td>\n",
       "      <td>1</td>\n",
       "      <td>2</td>\n",
       "      <td>0</td>\n",
       "      <td>2</td>\n",
       "      <td>2</td>\n",
       "      <td>2</td>\n",
       "    </tr>\n",
       "  </tbody>\n",
       "</table>\n",
       "<p>1 rows × 85 columns</p>\n",
       "</div>"
      ],
      "text/plain": [
       "country  Portugal  Venezuela  Pakistan  Yemen, Rep.  United Kingdom  China  \\\n",
       "cluster         0          2         1            2               0      1   \n",
       "\n",
       "country  Belgium  Greece  Sri Lanka  Tunisia   ...    Philippines  Jamaica  \\\n",
       "cluster        0       0          1        2   ...              1        1   \n",
       "\n",
       "country  Togo  Panama  Cambodia  Syria  Spain  Saudi Arabia  Libya  Turkey  \n",
       "cluster     1       0         1      2      0             2      2       2  \n",
       "\n",
       "[1 rows x 85 columns]"
      ]
     },
     "execution_count": 11,
     "metadata": {},
     "output_type": "execute_result"
    }
   ],
   "source": [
    "new_clus = pd.Series(model3.labels_, \n",
    "                     index=cluster_train.index, \n",
    "                     name='cluster').to_frame()\n",
    "                \n",
    "new_clus.T"
   ]
  },
  {
   "cell_type": "code",
   "execution_count": 12,
   "metadata": {
    "collapsed": false,
    "scrolled": true
   },
   "outputs": [
    {
     "data": {
      "text/html": [
       "<div>\n",
       "<table border=\"1\" class=\"dataframe\">\n",
       "  <thead>\n",
       "    <tr style=\"text-align: right;\">\n",
       "      <th></th>\n",
       "      <th>employrate</th>\n",
       "      <th>urbanrate</th>\n",
       "      <th>polityscore</th>\n",
       "      <th>lifeexpectancy</th>\n",
       "      <th>internetuserate</th>\n",
       "      <th>relectricperperson</th>\n",
       "      <th>cluster</th>\n",
       "    </tr>\n",
       "    <tr>\n",
       "      <th>country</th>\n",
       "      <th></th>\n",
       "      <th></th>\n",
       "      <th></th>\n",
       "      <th></th>\n",
       "      <th></th>\n",
       "      <th></th>\n",
       "      <th></th>\n",
       "    </tr>\n",
       "  </thead>\n",
       "  <tbody>\n",
       "    <tr>\n",
       "      <th>Portugal</th>\n",
       "      <td>-0.018263</td>\n",
       "      <td>-0.052379</td>\n",
       "      <td>0.894031</td>\n",
       "      <td>0.943017</td>\n",
       "      <td>0.480001</td>\n",
       "      <td>0.087743</td>\n",
       "      <td>0</td>\n",
       "    </tr>\n",
       "    <tr>\n",
       "      <th>Venezuela</th>\n",
       "      <td>0.231716</td>\n",
       "      <td>1.608206</td>\n",
       "      <td>-1.166919</td>\n",
       "      <td>0.352076</td>\n",
       "      <td>-0.085835</td>\n",
       "      <td>-0.092786</td>\n",
       "      <td>2</td>\n",
       "    </tr>\n",
       "    <tr>\n",
       "      <th>Pakistan</th>\n",
       "      <td>-0.735594</td>\n",
       "      <td>-1.195074</td>\n",
       "      <td>0.101358</td>\n",
       "      <td>-0.687316</td>\n",
       "      <td>-0.785168</td>\n",
       "      <td>-0.578992</td>\n",
       "      <td>1</td>\n",
       "    </tr>\n",
       "    <tr>\n",
       "      <th>Yemen, Rep.</th>\n",
       "      <td>-2.039833</td>\n",
       "      <td>-1.465790</td>\n",
       "      <td>-1.008384</td>\n",
       "      <td>-0.680824</td>\n",
       "      <td>-0.947632</td>\n",
       "      <td>-0.614345</td>\n",
       "      <td>2</td>\n",
       "    </tr>\n",
       "    <tr>\n",
       "      <th>United Kingdom</th>\n",
       "      <td>0.166504</td>\n",
       "      <td>1.442442</td>\n",
       "      <td>0.894031</td>\n",
       "      <td>1.020812</td>\n",
       "      <td>1.706695</td>\n",
       "      <td>0.507101</td>\n",
       "      <td>0</td>\n",
       "    </tr>\n",
       "  </tbody>\n",
       "</table>\n",
       "</div>"
      ],
      "text/plain": [
       "                employrate  urbanrate  polityscore  lifeexpectancy  \\\n",
       "country                                                              \n",
       "Portugal         -0.018263  -0.052379     0.894031        0.943017   \n",
       "Venezuela         0.231716   1.608206    -1.166919        0.352076   \n",
       "Pakistan         -0.735594  -1.195074     0.101358       -0.687316   \n",
       "Yemen, Rep.      -2.039833  -1.465790    -1.008384       -0.680824   \n",
       "United Kingdom    0.166504   1.442442     0.894031        1.020812   \n",
       "\n",
       "                internetuserate  relectricperperson  cluster  \n",
       "country                                                       \n",
       "Portugal               0.480001            0.087743        0  \n",
       "Venezuela             -0.085835           -0.092786        2  \n",
       "Pakistan              -0.785168           -0.578992        1  \n",
       "Yemen, Rep.           -0.947632           -0.614345        2  \n",
       "United Kingdom         1.706695            0.507101        0  "
      ]
     },
     "execution_count": 12,
     "metadata": {},
     "output_type": "execute_result"
    }
   ],
   "source": [
    "merged_train = cluster_train.merge(new_clus, left_index=True, right_index=True)\n",
    "merged_train.head()"
   ]
  },
  {
   "cell_type": "code",
   "execution_count": 13,
   "metadata": {
    "collapsed": false
   },
   "outputs": [
    {
     "data": {
      "text/html": [
       "<div>\n",
       "<table border=\"1\" class=\"dataframe\">\n",
       "  <thead>\n",
       "    <tr style=\"text-align: right;\">\n",
       "      <th></th>\n",
       "      <th># countries</th>\n",
       "    </tr>\n",
       "    <tr>\n",
       "      <th>cluster</th>\n",
       "      <th></th>\n",
       "    </tr>\n",
       "  </thead>\n",
       "  <tbody>\n",
       "    <tr>\n",
       "      <th>0</th>\n",
       "      <td>38</td>\n",
       "    </tr>\n",
       "    <tr>\n",
       "      <th>1</th>\n",
       "      <td>31</td>\n",
       "    </tr>\n",
       "    <tr>\n",
       "      <th>2</th>\n",
       "      <td>16</td>\n",
       "    </tr>\n",
       "  </tbody>\n",
       "</table>\n",
       "</div>"
      ],
      "text/plain": [
       "         # countries\n",
       "cluster             \n",
       "0                 38\n",
       "1                 31\n",
       "2                 16"
      ]
     },
     "execution_count": 13,
     "metadata": {},
     "output_type": "execute_result"
    }
   ],
   "source": [
    "counts = merged_train.cluster.value_counts()\n",
    "counts.name = '# countries'\n",
    "counts.index.name = 'cluster'\n",
    "counts.sort_index().to_frame()"
   ]
  },
  {
   "cell_type": "code",
   "execution_count": 14,
   "metadata": {
    "collapsed": false
   },
   "outputs": [
    {
     "data": {
      "text/html": [
       "<div>\n",
       "<table border=\"1\" class=\"dataframe\">\n",
       "  <thead>\n",
       "    <tr style=\"text-align: right;\">\n",
       "      <th></th>\n",
       "      <th>employrate</th>\n",
       "      <th>urbanrate</th>\n",
       "      <th>polityscore</th>\n",
       "      <th>lifeexpectancy</th>\n",
       "      <th>internetuserate</th>\n",
       "      <th>relectricperperson</th>\n",
       "    </tr>\n",
       "    <tr>\n",
       "      <th>cluster</th>\n",
       "      <th></th>\n",
       "      <th></th>\n",
       "      <th></th>\n",
       "      <th></th>\n",
       "      <th></th>\n",
       "      <th></th>\n",
       "    </tr>\n",
       "  </thead>\n",
       "  <tbody>\n",
       "    <tr>\n",
       "      <th>0</th>\n",
       "      <td>-0.071462</td>\n",
       "      <td>0.653552</td>\n",
       "      <td>0.685433</td>\n",
       "      <td>0.740627</td>\n",
       "      <td>0.889400</td>\n",
       "      <td>0.453329</td>\n",
       "    </tr>\n",
       "    <tr>\n",
       "      <th>1</th>\n",
       "      <td>0.578111</td>\n",
       "      <td>-0.877530</td>\n",
       "      <td>-0.077633</td>\n",
       "      <td>-1.023464</td>\n",
       "      <td>-0.965004</td>\n",
       "      <td>-0.565492</td>\n",
       "    </tr>\n",
       "    <tr>\n",
       "      <th>2</th>\n",
       "      <td>-0.916286</td>\n",
       "      <td>-0.031046</td>\n",
       "      <td>-1.325454</td>\n",
       "      <td>0.045374</td>\n",
       "      <td>-0.387503</td>\n",
       "      <td>-0.243930</td>\n",
       "    </tr>\n",
       "  </tbody>\n",
       "</table>\n",
       "</div>"
      ],
      "text/plain": [
       "         employrate  urbanrate  polityscore  lifeexpectancy  internetuserate  \\\n",
       "cluster                                                                        \n",
       "0         -0.071462   0.653552     0.685433        0.740627         0.889400   \n",
       "1          0.578111  -0.877530    -0.077633       -1.023464        -0.965004   \n",
       "2         -0.916286  -0.031046    -1.325454        0.045374        -0.387503   \n",
       "\n",
       "         relectricperperson  \n",
       "cluster                      \n",
       "0                  0.453329  \n",
       "1                 -0.565492  \n",
       "2                 -0.243930  "
      ]
     },
     "execution_count": 14,
     "metadata": {},
     "output_type": "execute_result"
    }
   ],
   "source": [
    "merged_train.groupby('cluster').mean()"
   ]
  },
  {
   "cell_type": "markdown",
   "metadata": {},
   "source": [
    "If we set *employment rate* aside, the group 0 gathers the *better* countries (high urban rate, democratic system, high life expectancy, high internet use rate and high electricity consumption) when the groups 1 and 2 gather the countries not having those characteristics.\n",
    "\n",
    "The difference between the group 1 and 2 is mainly on the employment rate. The group 1 having a important employment rate when the group 2 has a low one.\n",
    "\n",
    "## Validation on the test variable\n",
    "\n",
    "The tree clusters will be tested against our test variable *income per person*. To confirm the accuracy of the clusters obtained."
   ]
  },
  {
   "cell_type": "code",
   "execution_count": 15,
   "metadata": {
    "collapsed": false
   },
   "outputs": [
    {
     "data": {
      "text/html": [
       "<table class=\"simpletable\">\n",
       "<caption>OLS Regression Results</caption>\n",
       "<tr>\n",
       "  <th>Dep. Variable:</th>     <td>incomeperperson</td> <th>  R-squared:         </th> <td>   0.424</td>\n",
       "</tr>\n",
       "<tr>\n",
       "  <th>Model:</th>                   <td>OLS</td>       <th>  Adj. R-squared:    </th> <td>   0.410</td>\n",
       "</tr>\n",
       "<tr>\n",
       "  <th>Method:</th>             <td>Least Squares</td>  <th>  F-statistic:       </th> <td>   30.23</td>\n",
       "</tr>\n",
       "<tr>\n",
       "  <th>Date:</th>             <td>Sat, 13 Aug 2016</td> <th>  Prob (F-statistic):</th> <td>1.46e-10</td>\n",
       "</tr>\n",
       "<tr>\n",
       "  <th>Time:</th>                 <td>18:31:35</td>     <th>  Log-Likelihood:    </th> <td> -877.29</td>\n",
       "</tr>\n",
       "<tr>\n",
       "  <th>No. Observations:</th>      <td>    85</td>      <th>  AIC:               </th> <td>   1761.</td>\n",
       "</tr>\n",
       "<tr>\n",
       "  <th>Df Residuals:</th>          <td>    82</td>      <th>  BIC:               </th> <td>   1768.</td>\n",
       "</tr>\n",
       "<tr>\n",
       "  <th>Df Model:</th>              <td>     2</td>      <th>                     </th>     <td> </td>   \n",
       "</tr>\n",
       "<tr>\n",
       "  <th>Covariance Type:</th>      <td>nonrobust</td>    <th>                     </th>     <td> </td>   \n",
       "</tr>\n",
       "</table>\n",
       "<table class=\"simpletable\">\n",
       "<tr>\n",
       "         <td></td>            <th>coef</th>     <th>std err</th>      <th>t</th>      <th>P>|t|</th> <th>[95.0% Conf. Int.]</th> \n",
       "</tr>\n",
       "<tr>\n",
       "  <th>Intercept</th>       <td> 1.452e+04</td> <td> 1213.543</td> <td>   11.962</td> <td> 0.000</td> <td> 1.21e+04  1.69e+04</td>\n",
       "</tr>\n",
       "<tr>\n",
       "  <th>C(cluster)[T.1]</th> <td>-1.326e+04</td> <td> 1810.501</td> <td>   -7.326</td> <td> 0.000</td> <td>-1.69e+04 -9662.036</td>\n",
       "</tr>\n",
       "<tr>\n",
       "  <th>C(cluster)[T.2]</th> <td>-1.137e+04</td> <td> 2229.421</td> <td>   -5.098</td> <td> 0.000</td> <td>-1.58e+04 -6931.247</td>\n",
       "</tr>\n",
       "</table>\n",
       "<table class=\"simpletable\">\n",
       "<tr>\n",
       "  <th>Omnibus:</th>       <td>20.363</td> <th>  Durbin-Watson:     </th> <td>   1.827</td>\n",
       "</tr>\n",
       "<tr>\n",
       "  <th>Prob(Omnibus):</th> <td> 0.000</td> <th>  Jarque-Bera (JB):  </th> <td>  29.319</td>\n",
       "</tr>\n",
       "<tr>\n",
       "  <th>Skew:</th>          <td> 1.039</td> <th>  Prob(JB):          </th> <td>4.30e-07</td>\n",
       "</tr>\n",
       "<tr>\n",
       "  <th>Kurtosis:</th>      <td> 4.990</td> <th>  Cond. No.          </th> <td>    3.47</td>\n",
       "</tr>\n",
       "</table>"
      ],
      "text/plain": [
       "<class 'statsmodels.iolib.summary.Summary'>\n",
       "\"\"\"\n",
       "                            OLS Regression Results                            \n",
       "==============================================================================\n",
       "Dep. Variable:        incomeperperson   R-squared:                       0.424\n",
       "Model:                            OLS   Adj. R-squared:                  0.410\n",
       "Method:                 Least Squares   F-statistic:                     30.23\n",
       "Date:                Sat, 13 Aug 2016   Prob (F-statistic):           1.46e-10\n",
       "Time:                        18:31:35   Log-Likelihood:                -877.29\n",
       "No. Observations:                  85   AIC:                             1761.\n",
       "Df Residuals:                      82   BIC:                             1768.\n",
       "Df Model:                           2                                         \n",
       "Covariance Type:            nonrobust                                         \n",
       "===================================================================================\n",
       "                      coef    std err          t      P>|t|      [95.0% Conf. Int.]\n",
       "-----------------------------------------------------------------------------------\n",
       "Intercept        1.452e+04   1213.543     11.962      0.000      1.21e+04  1.69e+04\n",
       "C(cluster)[T.1] -1.326e+04   1810.501     -7.326      0.000     -1.69e+04 -9662.036\n",
       "C(cluster)[T.2] -1.137e+04   2229.421     -5.098      0.000     -1.58e+04 -6931.247\n",
       "==============================================================================\n",
       "Omnibus:                       20.363   Durbin-Watson:                   1.827\n",
       "Prob(Omnibus):                  0.000   Jarque-Bera (JB):               29.319\n",
       "Skew:                           1.039   Prob(JB):                     4.30e-07\n",
       "Kurtosis:                       4.990   Cond. No.                         3.47\n",
       "==============================================================================\n",
       "\n",
       "Warnings:\n",
       "[1] Standard Errors assume that the covariance matrix of the errors is correctly specified.\n",
       "\"\"\""
      ]
     },
     "execution_count": 15,
     "metadata": {},
     "output_type": "execute_result"
    }
   ],
   "source": [
    "target_train, target_test = train_test_split(target, \n",
    "                                             test_size=.3, \n",
    "                                             random_state=123)\n",
    "merged_train_all=merged_train.merge(target_train.to_frame(), \n",
    "                                    left_index=True, \n",
    "                                    right_index=True)\n",
    "sub1 = merged_train_all[[test_var, 'cluster']].dropna()\n",
    "\n",
    "import statsmodels.formula.api as smf\n",
    "import statsmodels.stats.multicomp as multi \n",
    "\n",
    "income = smf.ols(formula='{} ~ C(cluster)'.format(test_var), data=sub1).fit()\n",
    "income.summary()"
   ]
  },
  {
   "cell_type": "markdown",
   "metadata": {},
   "source": [
    "The ANOVA test confirms there is a significant variation of income per person with cluster (p-value = 1.46e-10 << 0.05). "
   ]
  },
  {
   "cell_type": "code",
   "execution_count": 16,
   "metadata": {
    "collapsed": false
   },
   "outputs": [
    {
     "data": {
      "text/markdown": [
       "means for income by cluster :"
      ],
      "text/plain": [
       "<IPython.core.display.Markdown object>"
      ]
     },
     "metadata": {},
     "output_type": "display_data"
    },
    {
     "data": {
      "text/html": [
       "<div>\n",
       "<table border=\"1\" class=\"dataframe\">\n",
       "  <thead>\n",
       "    <tr style=\"text-align: right;\">\n",
       "      <th></th>\n",
       "      <th>incomeperperson</th>\n",
       "    </tr>\n",
       "    <tr>\n",
       "      <th>cluster</th>\n",
       "      <th></th>\n",
       "    </tr>\n",
       "  </thead>\n",
       "  <tbody>\n",
       "    <tr>\n",
       "      <th>0</th>\n",
       "      <td>14516.002996</td>\n",
       "    </tr>\n",
       "    <tr>\n",
       "      <th>1</th>\n",
       "      <td>1252.303087</td>\n",
       "    </tr>\n",
       "    <tr>\n",
       "      <th>2</th>\n",
       "      <td>3149.728526</td>\n",
       "    </tr>\n",
       "  </tbody>\n",
       "</table>\n",
       "</div>"
      ],
      "text/plain": [
       "         incomeperperson\n",
       "cluster                 \n",
       "0           14516.002996\n",
       "1            1252.303087\n",
       "2            3149.728526"
      ]
     },
     "execution_count": 16,
     "metadata": {},
     "output_type": "execute_result"
    }
   ],
   "source": [
    "display(Markdown('means for income by cluster :'))\n",
    "sub1.groupby('cluster').mean()"
   ]
  },
  {
   "cell_type": "code",
   "execution_count": 17,
   "metadata": {
    "collapsed": false
   },
   "outputs": [
    {
     "data": {
      "text/markdown": [
       "standard deviations for income by cluster : "
      ],
      "text/plain": [
       "<IPython.core.display.Markdown object>"
      ]
     },
     "metadata": {},
     "output_type": "display_data"
    },
    {
     "data": {
      "text/html": [
       "<div>\n",
       "<table border=\"1\" class=\"dataframe\">\n",
       "  <thead>\n",
       "    <tr style=\"text-align: right;\">\n",
       "      <th></th>\n",
       "      <th>incomeperperson</th>\n",
       "    </tr>\n",
       "    <tr>\n",
       "      <th>cluster</th>\n",
       "      <th></th>\n",
       "    </tr>\n",
       "  </thead>\n",
       "  <tbody>\n",
       "    <tr>\n",
       "      <th>0</th>\n",
       "      <td>10958.920971</td>\n",
       "    </tr>\n",
       "    <tr>\n",
       "      <th>1</th>\n",
       "      <td>1233.242521</td>\n",
       "    </tr>\n",
       "    <tr>\n",
       "      <th>2</th>\n",
       "      <td>2577.331139</td>\n",
       "    </tr>\n",
       "  </tbody>\n",
       "</table>\n",
       "</div>"
      ],
      "text/plain": [
       "         incomeperperson\n",
       "cluster                 \n",
       "0           10958.920971\n",
       "1            1233.242521\n",
       "2            2577.331139"
      ]
     },
     "execution_count": 17,
     "metadata": {},
     "output_type": "execute_result"
    }
   ],
   "source": [
    "display(Markdown('standard deviations for income by cluster : '))\n",
    "sub1.groupby('cluster').std()"
   ]
  },
  {
   "cell_type": "markdown",
   "metadata": {},
   "source": [
    "The group 0 has the highest income per person (even if we substract the standard deviation, it stays higher than the average of groups 1 and 2).\n",
    "\n",
    "Group 1 has a lower average than group 2. But due to their respective standard deviation, they have a large overlapping confirming the idea of merging them for a better description."
   ]
  },
  {
   "cell_type": "code",
   "execution_count": 18,
   "metadata": {
    "collapsed": false,
    "scrolled": false
   },
   "outputs": [
    {
     "data": {
      "text/html": [
       "<table class=\"simpletable\">\n",
       "<caption>Multiple Comparison of Means - Tukey HSD,FWER=0.05</caption>\n",
       "<tr>\n",
       "  <th>group1</th> <th>group2</th>  <th>meandiff</th>      <th>lower</th>       <th>upper</th>   <th>reject</th>\n",
       "</tr>\n",
       "<tr>\n",
       "     <td>0</td>      <td>1</td>   <td>-13263.6999</td> <td>-17585.4903</td> <td>-8941.9096</td>  <td>True</td> \n",
       "</tr>\n",
       "<tr>\n",
       "     <td>0</td>      <td>2</td>   <td>-11366.2745</td> <td>-16688.0541</td> <td>-6044.4948</td>  <td>True</td> \n",
       "</tr>\n",
       "<tr>\n",
       "     <td>1</td>      <td>2</td>    <td>1897.4254</td>  <td>-3599.5005</td>   <td>7394.3514</td>  <td>False</td>\n",
       "</tr>\n",
       "</table>"
      ],
      "text/plain": [
       "<class 'statsmodels.iolib.table.SimpleTable'>"
      ]
     },
     "execution_count": 18,
     "metadata": {},
     "output_type": "execute_result"
    }
   ],
   "source": [
    "mc1 = multi.MultiComparison(sub1[test_var], sub1['cluster'])\n",
    "res1 = mc1.tukeyhsd()\n",
    "res1.summary()"
   ]
  },
  {
   "cell_type": "markdown",
   "metadata": {},
   "source": [
    "The multiple comparison above confirms that the cluster analysis would be better keeping only two clusters as groups 1 and 2 have no significant difference."
   ]
  },
  {
   "cell_type": "markdown",
   "metadata": {},
   "source": [
    "## Validation on the test subset\n",
    "\n",
    "The clustering will be validated on the test data set by looking at the evolution of the average distance with the number of clusters and by looking at the clusters in the canonical variables space."
   ]
  },
  {
   "cell_type": "code",
   "execution_count": 19,
   "metadata": {
    "collapsed": false
   },
   "outputs": [
    {
     "data": {
      "image/png": "[encoded data removed]",
      "text/plain": [
       "<matplotlib.figure.Figure at 0x169eea52b38>"
      ]
     },
     "metadata": {},
     "output_type": "display_data"
    }
   ],
   "source": [
    "meandist_test = list()\n",
    "\n",
    "for k in clusters:\n",
    "    model = KMeans(n_clusters=k+1)\n",
    "    model.fit(cluster_train)\n",
    "    meandist_test.append(sum(np.min(cdist(cluster_test, \n",
    "                                     model.cluster_centers_, \n",
    "                                     'euclidean'),\n",
    "                               axis=1))\n",
    "                    / cluster_test.shape[0])\n",
    "    \n",
    "plt.plot(clusters, meandist, label='Train data')\n",
    "plt.plot(clusters, meandist_test, label='Test data')\n",
    "plt.legend()\n",
    "plt.xlabel('Number of clusters')\n",
    "plt.ylabel('Average distance')\n",
    "plt.title('Selecting k with the Elbow Method');"
   ]
  },
  {
   "cell_type": "markdown",
   "metadata": {},
   "source": [
    "The test data will be plotted in the canonical variables space using lighter colors to quickly visualize their dispersion compare to the training data."
   ]
  },
  {
   "cell_type": "code",
   "execution_count": 20,
   "metadata": {
    "collapsed": false,
    "scrolled": true
   },
   "outputs": [
    {
     "data": {
      "image/png": "[encoded data removed]",
      "text/plain": [
       "<matplotlib.figure.Figure at 0x169eead2898>"
      ]
     },
     "metadata": {},
     "output_type": "display_data"
    }
   ],
   "source": [
    "test_assign = model3.predict(cluster_test)\n",
    "color_map = {0 : 'lightcoral', 1 : 'lightblue', 2 : 'lawngreen'}\n",
    "def color(x):\n",
    "    return color_map[x]\n",
    "color_test = list(map(color, test_assign))\n",
    "\n",
    "plot_col_test = pca_2.transform(cluster_test)\n",
    "plt.scatter(x=plot_columns[:,0], y=plot_columns[:,1], c=colors)\n",
    "plt.scatter(x=plot_col_test[:,0], y=plot_col_test[:,1], c=color_test)\n",
    "plt.xlabel('Canonical variable 1')\n",
    "plt.ylabel('Canonical variable 2')\n",
    "plt.title('Scatterplot of Canonical Variables for 3 Clusters');"
   ]
  },
  {
   "cell_type": "markdown",
   "metadata": {},
   "source": [
    "From the two figures above, the clustering in the training dataset seems to be confirmed by the test dataset. This confirms the clustering obtained on the training set.\n",
    "\n",
    "## Conclusion\n",
    "\n",
    "This assignment allows me to apply the unsupervised k-means cluster analysis on the Gapminder dataset. For the selected data, it seems that the countries are best described in a two clusters model; one have high quality of life (high urban rate, high life expectancy, high electricity consumption, high democratic system and high internet use rate) and the other one have lower quality of life. That cluster analysis was confirmed when testing for the income per person on the generated clusters."
   ]
  }
 ],
 "metadata": {
  "anaconda-cloud": {},
  "hide_input": false,
  "kernelspec": {
   "display_name": "Python [default]",
   "language": "python",
   "name": "python3"
  },
  "language_info": {
   "codemirror_mode": {
    "name": "ipython",
    "version": 3
   },
   "file_extension": ".py",
   "mimetype": "text/x-python",
   "name": "python",
   "nbconvert_exporter": "python",
   "pygments_lexer": "ipython3",
   "version": "3.5.2"
  },
  "nav_menu": {},
  "toc": {
   "navigate_menu": true,
   "number_sections": false,
   "sideBar": true,
   "threshold": 6,
   "toc_cell": false,
   "toc_section_display": "block",
   "toc_window_display": false
  }
 },
 "nbformat": 4,
 "nbformat_minor": 0
}
