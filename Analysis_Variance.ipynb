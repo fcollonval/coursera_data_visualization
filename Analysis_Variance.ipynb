{
 "cells": [
  {
   "cell_type": "markdown",
   "metadata": {},
   "source": [
    "# Data Analysis Tools\n",
    "# Assignment: Running an analysis of variance\n",
    "\n",
    "Following is the Python program I wrote to fulfill the first assignment of the [Data Analysis Tools online course](https://www.coursera.org/learn/data-analysis-tools/home/welcome).\n",
    "\n",
    "I decided to use [Jupyter Notebook](http://nbviewer.jupyter.org/github/ipython/ipython/blob/3.x/examples/Notebook/Index.ipynb) as it is a pretty way to write code and present results.\n",
    "\n",
    "## Research question\n",
    "\n",
    "Using the [Gapminder database](http://www.gapminder.org/), I would like to see if an increasing Internet usage results in an increasing suicide rate. A study shows that other factors like unemployment could have a great impact.\n",
    "\n",
    "So for this assignment, the three following variables will be analyzed:\n",
    "\n",
    "- Internet Usage Rate (per 100 people)\n",
    "- Suicide Rate (per 100 000 people)\n",
    "- Unemployment Rate (% of the population of age 15+)\n",
    "\n",
    "\n",
    "## Data management\n",
    "\n",
    "For the question I'm interested in, the countries for which data are missing will be discarded. As missing data in Gapminder database are replace directly by `NaN` no special data treatment is needed."
   ]
  },
  {
   "cell_type": "code",
   "execution_count": 1,
   "metadata": {
    "collapsed": false,
    "hide_input": false,
    "scrolled": true
   },
   "outputs": [],
   "source": [
    "# Magic command to insert the graph directly in the notebook\n",
    "%matplotlib inline\n",
    "# Load a useful Python libraries for handling data\n",
    "import pandas as pd\n",
    "import numpy as np\n",
    "import statsmodels.formula.api as smf\n",
    "import seaborn as sns\n",
    "import matplotlib.pyplot as plt\n",
    "from IPython.display import Markdown, display"
   ]
  },
  {
   "cell_type": "code",
   "execution_count": 2,
   "metadata": {
    "collapsed": true
   },
   "outputs": [],
   "source": [
    "# Read the data\n",
    "data_filename = r'gapminder.csv'\n",
    "data = pd.read_csv(data_filename, low_memory=False)\n",
    "data = data.set_index('country')"
   ]
  },
  {
   "cell_type": "markdown",
   "metadata": {},
   "source": [
    "General information on the Gapminder data"
   ]
  },
  {
   "cell_type": "code",
   "execution_count": 3,
   "metadata": {
    "collapsed": false,
    "variables": {
     "len(data)": "<p><strong>NameError</strong>: name &#39;data&#39; is not defined</p>\n",
     "len(data.columns)": "<p><strong>NameError</strong>: name &#39;data&#39; is not defined</p>\n"
    }
   },
   "outputs": [
    {
     "data": {
      "text/markdown": [
       "Number of countries: 213"
      ],
      "text/plain": [
       "<IPython.core.display.Markdown object>"
      ]
     },
     "metadata": {},
     "output_type": "display_data"
    },
    {
     "data": {
      "text/markdown": [
       "Number of variables: 15"
      ],
      "text/plain": [
       "<IPython.core.display.Markdown object>"
      ]
     },
     "metadata": {},
     "output_type": "display_data"
    }
   ],
   "source": [
    "display(Markdown(\"Number of countries: {}\".format(len(data))))\n",
    "display(Markdown(\"Number of variables: {}\".format(len(data.columns))))"
   ]
  },
  {
   "cell_type": "code",
   "execution_count": 4,
   "metadata": {
    "collapsed": false
   },
   "outputs": [],
   "source": [
    "# Convert interesting variables in numeric format\n",
    "for variable in ('internetuserate', 'suicideper100th', 'employrate'):\n",
    "    data[variable] = pd.to_numeric(data[variable], errors='coerce')"
   ]
  },
  {
   "cell_type": "markdown",
   "metadata": {},
   "source": [
    "\n",
    "But the unemployment rate is not provided directly. In the database, the employment rate (% of the popluation) is available. So the unemployement rate will be computed as `100 - employment rate`:"
   ]
  },
  {
   "cell_type": "code",
   "execution_count": 5,
   "metadata": {
    "collapsed": false
   },
   "outputs": [],
   "source": [
    "data['unemployrate'] = 100. - data['employrate']"
   ]
  },
  {
   "cell_type": "markdown",
   "metadata": {
    "collapsed": false,
    "scrolled": true
   },
   "source": [
    "The first records of the data restricted to the three analyzed variables are:"
   ]
  },
  {
   "cell_type": "code",
   "execution_count": 6,
   "metadata": {
    "collapsed": false,
    "scrolled": true
   },
   "outputs": [
    {
     "data": {
      "text/html": [
       "<div>\n",
       "<table border=\"1\" class=\"dataframe\">\n",
       "  <thead>\n",
       "    <tr style=\"text-align: right;\">\n",
       "      <th></th>\n",
       "      <th>internetuserate</th>\n",
       "      <th>suicideper100th</th>\n",
       "      <th>unemployrate</th>\n",
       "    </tr>\n",
       "    <tr>\n",
       "      <th>country</th>\n",
       "      <th></th>\n",
       "      <th></th>\n",
       "      <th></th>\n",
       "    </tr>\n",
       "  </thead>\n",
       "  <tbody>\n",
       "    <tr>\n",
       "      <th>Afghanistan</th>\n",
       "      <td>3.654122</td>\n",
       "      <td>6.684385</td>\n",
       "      <td>44.299999</td>\n",
       "    </tr>\n",
       "    <tr>\n",
       "      <th>Albania</th>\n",
       "      <td>44.989947</td>\n",
       "      <td>7.699330</td>\n",
       "      <td>48.599998</td>\n",
       "    </tr>\n",
       "    <tr>\n",
       "      <th>Algeria</th>\n",
       "      <td>12.500073</td>\n",
       "      <td>4.848770</td>\n",
       "      <td>49.500000</td>\n",
       "    </tr>\n",
       "    <tr>\n",
       "      <th>Andorra</th>\n",
       "      <td>81.000000</td>\n",
       "      <td>5.362179</td>\n",
       "      <td>NaN</td>\n",
       "    </tr>\n",
       "    <tr>\n",
       "      <th>Angola</th>\n",
       "      <td>9.999954</td>\n",
       "      <td>14.554677</td>\n",
       "      <td>24.300003</td>\n",
       "    </tr>\n",
       "    <tr>\n",
       "      <th>Antigua and Barbuda</th>\n",
       "      <td>80.645455</td>\n",
       "      <td>2.161843</td>\n",
       "      <td>NaN</td>\n",
       "    </tr>\n",
       "    <tr>\n",
       "      <th>Argentina</th>\n",
       "      <td>36.000335</td>\n",
       "      <td>7.765584</td>\n",
       "      <td>41.599998</td>\n",
       "    </tr>\n",
       "    <tr>\n",
       "      <th>Armenia</th>\n",
       "      <td>44.001025</td>\n",
       "      <td>3.741588</td>\n",
       "      <td>59.900002</td>\n",
       "    </tr>\n",
       "    <tr>\n",
       "      <th>Aruba</th>\n",
       "      <td>41.800889</td>\n",
       "      <td>NaN</td>\n",
       "      <td>NaN</td>\n",
       "    </tr>\n",
       "    <tr>\n",
       "      <th>Australia</th>\n",
       "      <td>75.895654</td>\n",
       "      <td>8.470030</td>\n",
       "      <td>38.500000</td>\n",
       "    </tr>\n",
       "  </tbody>\n",
       "</table>\n",
       "</div>"
      ],
      "text/plain": [
       "                     internetuserate  suicideper100th  unemployrate\n",
       "country                                                            \n",
       "Afghanistan                 3.654122         6.684385     44.299999\n",
       "Albania                    44.989947         7.699330     48.599998\n",
       "Algeria                    12.500073         4.848770     49.500000\n",
       "Andorra                    81.000000         5.362179           NaN\n",
       "Angola                      9.999954        14.554677     24.300003\n",
       "Antigua and Barbuda        80.645455         2.161843           NaN\n",
       "Argentina                  36.000335         7.765584     41.599998\n",
       "Armenia                    44.001025         3.741588     59.900002\n",
       "Aruba                      41.800889              NaN           NaN\n",
       "Australia                  75.895654         8.470030     38.500000"
      ]
     },
     "execution_count": 6,
     "metadata": {},
     "output_type": "execute_result"
    }
   ],
   "source": [
    "subdata = data[['internetuserate', 'suicideper100th', 'unemployrate']]\n",
    "subdata.head(10)"
   ]
  },
  {
   "cell_type": "markdown",
   "metadata": {},
   "source": [
    "## Data analysis\n",
    "\n",
    "The distribution of the three variables have been analyzed [previously](Visualizing_Data.ipynb).\n",
    "\n"
   ]
  },
  {
   "cell_type": "markdown",
   "metadata": {},
   "source": [
    "## Variance analysis\n",
    "\n",
    "Now that the univariate distribution as be plotted and described, the bivariate graphics will be plotted in order to test our research hypothesis.\n",
    "\n",
    "Let's first focus on the primary research question;\n",
    "\n",
    "- The explanatory variable is the internet use rate (quantitative variable)\n",
    "- The response variable is the suicide per 100,000 people (quantitative variable)\n",
    "\n",
    "From the scatter plot, a slope slightly positive has been seen. And as most of the countries have no or very low internet use rate, an effect is maybe seen only on the countries having the higher internet use rate. "
   ]
  },
  {
   "cell_type": "code",
   "execution_count": 7,
   "metadata": {
    "collapsed": false,
    "scrolled": false
   },
   "outputs": [
    {
     "data": {
      "image/png": "[encoded data removed]",
      "text/plain": [
       "<matplotlib.figure.Figure at 0x478b320>"
      ]
     },
     "metadata": {},
     "output_type": "display_data"
    }
   ],
   "source": [
    "subdata2 = subdata.assign(internet_grp4 = pd.qcut(subdata.internetuserate, 4, \n",
    "                                       labels=[\"1=25th%tile\", \"2=50th%tile\", \n",
    "                                               \"3=75th%tile\", \"4=100th%tile\"]))\n",
    "sns.factorplot(x='internet_grp4', y='suicideper100th', data=subdata2, \n",
    "               kind=\"bar\", ci=None)\n",
    "plt.xlabel('Internet use rate (%)')\n",
    "plt.ylabel('Suicide per 100 000 people (-)')\n",
    "_ = plt.title('Average suicide per 100,000 people per internet use rate quartile')"
   ]
  },
  {
   "cell_type": "markdown",
   "metadata": {},
   "source": [
    "This case falls under the Categorical to Quantitative case of interest for this assignement. So ANOVA analysis can be performed here.\n",
    "\n",
    "\n",
    "- The null hypothesis is: There is no relationship between the Internet use rate and suicide\n",
    "- The alternate hypothesis is: There is a relationship between the Internet use rate and suicide"
   ]
  },
  {
   "cell_type": "code",
   "execution_count": 8,
   "metadata": {
    "collapsed": false
   },
   "outputs": [
    {
     "data": {
      "text/html": [
       "<table class=\"simpletable\">\n",
       "<caption>OLS Regression Results</caption>\n",
       "<tr>\n",
       "  <th>Dep. Variable:</th>     <td>suicideper100th</td> <th>  R-squared:         </th> <td>   0.031</td>\n",
       "</tr>\n",
       "<tr>\n",
       "  <th>Model:</th>                   <td>OLS</td>       <th>  Adj. R-squared:    </th> <td>   0.014</td>\n",
       "</tr>\n",
       "<tr>\n",
       "  <th>Method:</th>             <td>Least Squares</td>  <th>  F-statistic:       </th> <td>   1.834</td>\n",
       "</tr>\n",
       "<tr>\n",
       "  <th>Date:</th>             <td>Sat, 21 May 2016</td> <th>  Prob (F-statistic):</th>  <td> 0.143</td> \n",
       "</tr>\n",
       "<tr>\n",
       "  <th>Time:</th>                 <td>15:50:19</td>     <th>  Log-Likelihood:    </th> <td> -573.25</td>\n",
       "</tr>\n",
       "<tr>\n",
       "  <th>No. Observations:</th>      <td>   177</td>      <th>  AIC:               </th> <td>   1155.</td>\n",
       "</tr>\n",
       "<tr>\n",
       "  <th>Df Residuals:</th>          <td>   173</td>      <th>  BIC:               </th> <td>   1167.</td>\n",
       "</tr>\n",
       "<tr>\n",
       "  <th>Df Model:</th>              <td>     3</td>      <th>                     </th>     <td> </td>   \n",
       "</tr>\n",
       "<tr>\n",
       "  <th>Covariance Type:</th>      <td>nonrobust</td>    <th>                     </th>     <td> </td>   \n",
       "</tr>\n",
       "</table>\n",
       "<table class=\"simpletable\">\n",
       "<tr>\n",
       "                  <td></td>                    <th>coef</th>     <th>std err</th>      <th>t</th>      <th>P>|t|</th> <th>[95.0% Conf. Int.]</th> \n",
       "</tr>\n",
       "<tr>\n",
       "  <th>Intercept</th>                        <td>    9.6848</td> <td>    0.910</td> <td>   10.638</td> <td> 0.000</td> <td>    7.888    11.482</td>\n",
       "</tr>\n",
       "<tr>\n",
       "  <th>C(internet_grp4)[T.2=50th%tile]</th>  <td>   -0.3902</td> <td>    1.281</td> <td>   -0.305</td> <td> 0.761</td> <td>   -2.918     2.138</td>\n",
       "</tr>\n",
       "<tr>\n",
       "  <th>C(internet_grp4)[T.3=75th%tile]</th>  <td>   -1.3509</td> <td>    1.317</td> <td>   -1.026</td> <td> 0.306</td> <td>   -3.951     1.249</td>\n",
       "</tr>\n",
       "<tr>\n",
       "  <th>C(internet_grp4)[T.4=100th%tile]</th> <td>    1.8173</td> <td>    1.352</td> <td>    1.344</td> <td> 0.181</td> <td>   -0.851     4.486</td>\n",
       "</tr>\n",
       "</table>\n",
       "<table class=\"simpletable\">\n",
       "<tr>\n",
       "  <th>Omnibus:</th>       <td>55.631</td> <th>  Durbin-Watson:     </th> <td>   2.124</td>\n",
       "</tr>\n",
       "<tr>\n",
       "  <th>Prob(Omnibus):</th> <td> 0.000</td> <th>  Jarque-Bera (JB):  </th> <td> 120.033</td>\n",
       "</tr>\n",
       "<tr>\n",
       "  <th>Skew:</th>          <td> 1.431</td> <th>  Prob(JB):          </th> <td>8.61e-27</td>\n",
       "</tr>\n",
       "<tr>\n",
       "  <th>Kurtosis:</th>      <td> 5.844</td> <th>  Cond. No.          </th> <td>    4.68</td>\n",
       "</tr>\n",
       "</table>"
      ],
      "text/plain": [
       "<class 'statsmodels.iolib.summary.Summary'>\n",
       "\"\"\"\n",
       "                            OLS Regression Results                            \n",
       "==============================================================================\n",
       "Dep. Variable:        suicideper100th   R-squared:                       0.031\n",
       "Model:                            OLS   Adj. R-squared:                  0.014\n",
       "Method:                 Least Squares   F-statistic:                     1.834\n",
       "Date:                Sat, 21 May 2016   Prob (F-statistic):              0.143\n",
       "Time:                        15:50:19   Log-Likelihood:                -573.25\n",
       "No. Observations:                 177   AIC:                             1155.\n",
       "Df Residuals:                     173   BIC:                             1167.\n",
       "Df Model:                           3                                         \n",
       "Covariance Type:            nonrobust                                         \n",
       "====================================================================================================\n",
       "                                       coef    std err          t      P>|t|      [95.0% Conf. Int.]\n",
       "----------------------------------------------------------------------------------------------------\n",
       "Intercept                            9.6848      0.910     10.638      0.000         7.888    11.482\n",
       "C(internet_grp4)[T.2=50th%tile]     -0.3902      1.281     -0.305      0.761        -2.918     2.138\n",
       "C(internet_grp4)[T.3=75th%tile]     -1.3509      1.317     -1.026      0.306        -3.951     1.249\n",
       "C(internet_grp4)[T.4=100th%tile]     1.8173      1.352      1.344      0.181        -0.851     4.486\n",
       "==============================================================================\n",
       "Omnibus:                       55.631   Durbin-Watson:                   2.124\n",
       "Prob(Omnibus):                  0.000   Jarque-Bera (JB):              120.033\n",
       "Skew:                           1.431   Prob(JB):                     8.61e-27\n",
       "Kurtosis:                       5.844   Cond. No.                         4.68\n",
       "==============================================================================\n",
       "\n",
       "Warnings:\n",
       "[1] Standard Errors assume that the covariance matrix of the errors is correctly specified.\n",
       "\"\"\""
      ]
     },
     "execution_count": 8,
     "metadata": {},
     "output_type": "execute_result"
    }
   ],
   "source": [
    "model1 = smf.ols(formula='suicideper100th ~ C(internet_grp4)', data=subdata2).fit()\n",
    "model1.summary()"
   ]
  },
  {
   "cell_type": "markdown",
   "metadata": {},
   "source": [
    "The p-value found is 0.143 > 0.05. Therefore the null hypothesis cannot be rejected. There is no relationship between the internet use rate and the suicide rate."
   ]
  },
  {
   "cell_type": "markdown",
   "metadata": {},
   "source": [
    "## Test case to fulfill the assignment\n",
    "\n",
    "In order to fulfill the assignment, I will switch to the NESARC database."
   ]
  },
  {
   "cell_type": "code",
   "execution_count": 9,
   "metadata": {
    "collapsed": true
   },
   "outputs": [],
   "source": [
    "nesarc = pd.read_csv('nesarc_pds.csv', low_memory=False)"
   ]
  },
  {
   "cell_type": "code",
   "execution_count": 10,
   "metadata": {
    "collapsed": true
   },
   "outputs": [],
   "source": [
    "races = {1 : 'White', \n",
    "         2 : 'Black', \n",
    "         3 : 'American India/Alaska', \n",
    "         4 : 'Asian/Native Hawaiian/Pacific',\n",
    "         5 : 'Hispanic or Latino'}\n",
    "subnesarc = (nesarc[['S3BQ4', 'ETHRACE2A']]\n",
    "             .assign(ethnicity=lambda x: pd.Categorical(x['ETHRACE2A'].map(races)),\n",
    "                     nb_joints_day=lambda x: (pd.to_numeric(x['S3BQ4'], errors='coerce')\n",
    "                                                .replace(99, np.nan)))\n",
    "             .dropna())"
   ]
  },
  {
   "cell_type": "code",
   "execution_count": 11,
   "metadata": {
    "collapsed": false
   },
   "outputs": [
    {
     "data": {
      "image/png": "[encoded data removed]",
      "text/plain": [
       "<matplotlib.figure.Figure at 0x8882e8>"
      ]
     },
     "metadata": {},
     "output_type": "display_data"
    }
   ],
   "source": [
    "g = sns.factorplot(x='ethnicity', y='nb_joints_day', data=subnesarc, \n",
    "                   kind=\"bar\", ci=None)\n",
    "g.set_xticklabels(rotation=90)\n",
    "plt.ylabel('Number of cannabis joints per day')\n",
    "_ = plt.title('Average number of cannabis joints smoked per day depending on the ethnicity')"
   ]
  },
  {
   "cell_type": "markdown",
   "metadata": {},
   "source": [
    "The null hypothesis is *There is no relationship between the number of joints smoked per day and the ethnicity*.\n",
    "\n",
    "The alternate hypothesis is *There is a relationship between the number of joints smoked per day and the ethnicity*."
   ]
  },
  {
   "cell_type": "code",
   "execution_count": 12,
   "metadata": {
    "collapsed": false
   },
   "outputs": [
    {
     "data": {
      "text/html": [
       "<table class=\"simpletable\">\n",
       "<caption>OLS Regression Results</caption>\n",
       "<tr>\n",
       "  <th>Dep. Variable:</th>      <td>nb_joints_day</td>  <th>  R-squared:         </th> <td>   0.006</td> \n",
       "</tr>\n",
       "<tr>\n",
       "  <th>Model:</th>                   <td>OLS</td>       <th>  Adj. R-squared:    </th> <td>   0.005</td> \n",
       "</tr>\n",
       "<tr>\n",
       "  <th>Method:</th>             <td>Least Squares</td>  <th>  F-statistic:       </th> <td>   11.34</td> \n",
       "</tr>\n",
       "<tr>\n",
       "  <th>Date:</th>             <td>Sat, 21 May 2016</td> <th>  Prob (F-statistic):</th> <td>3.55e-09</td> \n",
       "</tr>\n",
       "<tr>\n",
       "  <th>Time:</th>                 <td>15:53:34</td>     <th>  Log-Likelihood:    </th> <td> -21101.</td> \n",
       "</tr>\n",
       "<tr>\n",
       "  <th>No. Observations:</th>      <td>  7967</td>      <th>  AIC:               </th> <td>4.221e+04</td>\n",
       "</tr>\n",
       "<tr>\n",
       "  <th>Df Residuals:</th>          <td>  7962</td>      <th>  BIC:               </th> <td>4.225e+04</td>\n",
       "</tr>\n",
       "<tr>\n",
       "  <th>Df Model:</th>              <td>     4</td>      <th>                     </th>     <td> </td>    \n",
       "</tr>\n",
       "<tr>\n",
       "  <th>Covariance Type:</th>      <td>nonrobust</td>    <th>                     </th>     <td> </td>    \n",
       "</tr>\n",
       "</table>\n",
       "<table class=\"simpletable\">\n",
       "<tr>\n",
       "                        <td></td>                           <th>coef</th>     <th>std err</th>      <th>t</th>      <th>P>|t|</th> <th>[95.0% Conf. Int.]</th> \n",
       "</tr>\n",
       "<tr>\n",
       "  <th>Intercept</th>                                     <td>    3.0571</td> <td>    0.236</td> <td>   12.950</td> <td> 0.000</td> <td>    2.594     3.520</td>\n",
       "</tr>\n",
       "<tr>\n",
       "  <th>C(ethnicity)[T.Asian/Native Hawaiian/Pacific]</th> <td>   -0.9914</td> <td>    0.376</td> <td>   -2.639</td> <td> 0.008</td> <td>   -1.728    -0.255</td>\n",
       "</tr>\n",
       "<tr>\n",
       "  <th>C(ethnicity)[T.Black]</th>                         <td>   -0.5424</td> <td>    0.255</td> <td>   -2.127</td> <td> 0.033</td> <td>   -1.042    -0.042</td>\n",
       "</tr>\n",
       "<tr>\n",
       "  <th>C(ethnicity)[T.Hispanic or Latino]</th>            <td>   -0.7997</td> <td>    0.257</td> <td>   -3.113</td> <td> 0.002</td> <td>   -1.303    -0.296</td>\n",
       "</tr>\n",
       "<tr>\n",
       "  <th>C(ethnicity)[T.White]</th>                         <td>   -1.0943</td> <td>    0.241</td> <td>   -4.545</td> <td> 0.000</td> <td>   -1.566    -0.622</td>\n",
       "</tr>\n",
       "</table>\n",
       "<table class=\"simpletable\">\n",
       "<tr>\n",
       "  <th>Omnibus:</th>       <td>13078.464</td> <th>  Durbin-Watson:     </th>   <td>   2.007</td>  \n",
       "</tr>\n",
       "<tr>\n",
       "  <th>Prob(Omnibus):</th>  <td> 0.000</td>   <th>  Jarque-Bera (JB):  </th> <td>14564258.345</td>\n",
       "</tr>\n",
       "<tr>\n",
       "  <th>Skew:</th>           <td>10.756</td>   <th>  Prob(JB):          </th>   <td>    0.00</td>  \n",
       "</tr>\n",
       "<tr>\n",
       "  <th>Kurtosis:</th>       <td>211.353</td>  <th>  Cond. No.          </th>   <td>    17.8</td>  \n",
       "</tr>\n",
       "</table>"
      ],
      "text/plain": [
       "<class 'statsmodels.iolib.summary.Summary'>\n",
       "\"\"\"\n",
       "                            OLS Regression Results                            \n",
       "==============================================================================\n",
       "Dep. Variable:          nb_joints_day   R-squared:                       0.006\n",
       "Model:                            OLS   Adj. R-squared:                  0.005\n",
       "Method:                 Least Squares   F-statistic:                     11.34\n",
       "Date:                Sat, 21 May 2016   Prob (F-statistic):           3.55e-09\n",
       "Time:                        15:53:34   Log-Likelihood:                -21101.\n",
       "No. Observations:                7967   AIC:                         4.221e+04\n",
       "Df Residuals:                    7962   BIC:                         4.225e+04\n",
       "Df Model:                           4                                         \n",
       "Covariance Type:            nonrobust                                         \n",
       "=================================================================================================================\n",
       "                                                    coef    std err          t      P>|t|      [95.0% Conf. Int.]\n",
       "-----------------------------------------------------------------------------------------------------------------\n",
       "Intercept                                         3.0571      0.236     12.950      0.000         2.594     3.520\n",
       "C(ethnicity)[T.Asian/Native Hawaiian/Pacific]    -0.9914      0.376     -2.639      0.008        -1.728    -0.255\n",
       "C(ethnicity)[T.Black]                            -0.5424      0.255     -2.127      0.033        -1.042    -0.042\n",
       "C(ethnicity)[T.Hispanic or Latino]               -0.7997      0.257     -3.113      0.002        -1.303    -0.296\n",
       "C(ethnicity)[T.White]                            -1.0943      0.241     -4.545      0.000        -1.566    -0.622\n",
       "==============================================================================\n",
       "Omnibus:                    13078.464   Durbin-Watson:                   2.007\n",
       "Prob(Omnibus):                  0.000   Jarque-Bera (JB):         14564258.345\n",
       "Skew:                          10.756   Prob(JB):                         0.00\n",
       "Kurtosis:                     211.353   Cond. No.                         17.8\n",
       "==============================================================================\n",
       "\n",
       "Warnings:\n",
       "[1] Standard Errors assume that the covariance matrix of the errors is correctly specified.\n",
       "\"\"\""
      ]
     },
     "execution_count": 12,
     "metadata": {},
     "output_type": "execute_result"
    }
   ],
   "source": [
    "model2 = smf.ols(formula='nb_joints_day ~ C(ethnicity)', data=subnesarc).fit()\n",
    "model2.summary()"
   ]
  },
  {
   "cell_type": "markdown",
   "metadata": {},
   "source": [
    "The p-value is much smaller than 5%. Therefore the null hypothesis is rejected. We can now look at which group are really different from the other."
   ]
  },
  {
   "cell_type": "code",
   "execution_count": 13,
   "metadata": {
    "collapsed": false
   },
   "outputs": [
    {
     "data": {
      "text/html": [
       "<table class=\"simpletable\">\n",
       "<caption>Multiple Comparison of Means - Tukey HSD,FWER=0.05</caption>\n",
       "<tr>\n",
       "             <th>group1</th>                        <th>group2</th>             <th>meandiff</th>  <th>lower</th>   <th>upper</th>  <th>reject</th>\n",
       "</tr>\n",
       "<tr>\n",
       "      <td>American India/Alaska</td>     <td>Asian/Native Hawaiian/Pacific</td>  <td>-0.9914</td> <td>-2.0165</td> <td>0.0336</td>   <td>False</td>\n",
       "</tr>\n",
       "<tr>\n",
       "      <td>American India/Alaska</td>                 <td>Black</td>              <td>-0.5424</td> <td>-1.2383</td> <td>0.1535</td>   <td>False</td>\n",
       "</tr>\n",
       "<tr>\n",
       "      <td>American India/Alaska</td>          <td>Hispanic or Latino</td>        <td>-0.7997</td> <td>-1.5005</td> <td>-0.0989</td>  <td>True</td> \n",
       "</tr>\n",
       "<tr>\n",
       "      <td>American India/Alaska</td>                 <td>White</td>              <td>-1.0943</td> <td>-1.7512</td> <td>-0.4374</td>  <td>True</td> \n",
       "</tr>\n",
       "<tr>\n",
       "  <td>Asian/Native Hawaiian/Pacific</td>             <td>Black</td>               <td>0.449</td>  <td>-0.3908</td> <td>1.2889</td>   <td>False</td>\n",
       "</tr>\n",
       "<tr>\n",
       "  <td>Asian/Native Hawaiian/Pacific</td>      <td>Hispanic or Latino</td>        <td>0.1917</td>  <td>-0.6522</td> <td>1.0357</td>   <td>False</td>\n",
       "</tr>\n",
       "<tr>\n",
       "  <td>Asian/Native Hawaiian/Pacific</td>             <td>White</td>              <td>-0.1028</td> <td>-0.9107</td>  <td>0.705</td>   <td>False</td>\n",
       "</tr>\n",
       "<tr>\n",
       "              <td>Black</td>                  <td>Hispanic or Latino</td>        <td>-0.2573</td> <td>-0.639</td>  <td>0.1244</td>   <td>False</td>\n",
       "</tr>\n",
       "<tr>\n",
       "              <td>Black</td>                         <td>White</td>              <td>-0.5519</td> <td>-0.8453</td> <td>-0.2585</td>  <td>True</td> \n",
       "</tr>\n",
       "<tr>\n",
       "       <td>Hispanic or Latino</td>                   <td>White</td>              <td>-0.2946</td> <td>-0.5995</td> <td>0.0103</td>   <td>False</td>\n",
       "</tr>\n",
       "</table>"
      ],
      "text/plain": [
       "<class 'statsmodels.iolib.table.SimpleTable'>"
      ]
     },
     "execution_count": 13,
     "metadata": {},
     "output_type": "execute_result"
    }
   ],
   "source": [
    "import statsmodels.stats.multicomp as multi\n",
    "\n",
    "multi1 = multi.MultiComparison(subnesarc['nb_joints_day'], subnesarc['ethnicity'])\n",
    "result1 = multi1.tukeyhsd()\n",
    "result1.summary()"
   ]
  },
  {
   "cell_type": "markdown",
   "metadata": {},
   "source": [
    "From the Tukey's Honestly Significant Difference Test, we can conclude there are 3 relationship presenting a real difference:\n",
    "\n",
    "- American India/Alaska group smokes more than the Hispanic or Latino group\n",
    "- American India/Alaska group smokes more than the White group\n",
    "- Black group smokes more than White group"
   ]
  },
  {
   "cell_type": "markdown",
   "metadata": {
    "collapsed": true
   },
   "source": [
    "## Summary\n",
    "\n",
    "Using the ANOVA test on the research question *do countries with a high internet use rate have a higher number of suicides?* brought me to the conclusion that there is no relationship between the internet use rate and the number of suicide.\n",
    "\n",
    "So in order to fulfill this assignment, I switch to the NESARC database. My interest focus on a possible relationship between ethnicity and the number of cannabis joints smoked per day. After verifying that there is a significant relationship, I applied the Tukey HSD method to figure out which groups were really different one from the other. \n",
    "\n",
    "There are 3 relationship presenting a real difference:\n",
    "\n",
    "- American India/Alaska group smokes more than the Hispanic or Latino group\n",
    "- American India/Alaska group smokes more than the White group\n",
    "- Black group smokes more than White group\n",
    "\n"
   ]
  },
  {
   "cell_type": "markdown",
   "metadata": {},
   "source": [
    "> If you are interested data sciences, follow me on [Tumblr](http://fcollonval.tumblr.com/)."
   ]
  }
 ],
 "metadata": {
  "hide_input": false,
  "kernelspec": {
   "display_name": "Python 3",
   "language": "python",
   "name": "python3"
  },
  "language_info": {
   "codemirror_mode": {
    "name": "ipython",
    "version": 3
   },
   "file_extension": ".py",
   "mimetype": "text/x-python",
   "name": "python",
   "nbconvert_exporter": "python",
   "pygments_lexer": "ipython3",
   "version": "3.4.4"
  },
  "toc": {
   "toc_cell": false,
   "toc_number_sections": true,
   "toc_threshold": "3",
   "toc_window_display": false
  }
 },
 "nbformat": 4,
 "nbformat_minor": 0
}
