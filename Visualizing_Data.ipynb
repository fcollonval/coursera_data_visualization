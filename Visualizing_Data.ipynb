{
 "cells": [
  {
   "cell_type": "markdown",
   "metadata": {},
   "source": [
    "# Assignment: Creating Graphs for Your Data - Python\n",
    "\n",
    "Following is the Python program I wrote to fulfill the four assignment of the [Data Management and Visualization online course]( https://www.coursera.org/learn/data-visualization/).\n",
    "\n",
    "I decided to use [Jupyter Notebook](http://nbviewer.jupyter.org/github/ipython/ipython/blob/3.x/examples/Notebook/Index.ipynb) as it is a pretty way to write code and present results.\n",
    "\n",
    "## Research question\n",
    "\n",
    "Using the [Gapminder database](http://www.gapminder.org/), I would like to see if an increasing Internet usage results in an increasing suicide rate. A study shows that other factors like unemployment could have a great impact.\n",
    "\n",
    "So for this assignment, the three following variables will be analyzed:\n",
    "\n",
    "- Internet Usage Rate (per 100 people)\n",
    "- Suicide Rate (per 100 000 people)\n",
    "- Unemployment Rate (% of the population of age 15+)\n",
    "\n",
    "\n",
    "## Data management\n",
    "\n",
    "For the question, I'm interested in the countries for which data are missing will be discarded. As missing data in Gapminder database are replace directly by `NaN` no special data treatment is needed."
   ]
  },
  {
   "cell_type": "code",
   "execution_count": 1,
   "metadata": {
    "collapsed": false,
    "hide_input": false,
    "scrolled": true
   },
   "outputs": [],
   "source": [
    "# Magic command to insert the graph directly in the notebook\n",
    "%matplotlib inline\n",
    "# Load a useful Python libraries for handling data\n",
    "import pandas as pd\n",
    "import numpy as np\n",
    "import seaborn as sns\n",
    "import matplotlib.pyplot as plt\n",
    "from IPython.display import Markdown, display"
   ]
  },
  {
   "cell_type": "code",
   "execution_count": 2,
   "metadata": {
    "collapsed": true
   },
   "outputs": [],
   "source": [
    "# Read the data\n",
    "data_filename = r'gapminder.csv'\n",
    "data = pd.read_csv(data_filename, low_memory=False)\n",
    "data = data.set_index('country')"
   ]
  },
  {
   "cell_type": "markdown",
   "metadata": {},
   "source": [
    "General information on the Gapminder data"
   ]
  },
  {
   "cell_type": "code",
   "execution_count": 3,
   "metadata": {
    "collapsed": false,
    "variables": {
     "len(data)": "<p><strong>NameError</strong>: name &#39;data&#39; is not defined</p>\n",
     "len(data.columns)": "<p><strong>NameError</strong>: name &#39;data&#39; is not defined</p>\n"
    }
   },
   "outputs": [
    {
     "data": {
      "text/markdown": [
       "Number of countries: 213"
      ],
      "text/plain": [
       "<IPython.core.display.Markdown object>"
      ]
     },
     "metadata": {},
     "output_type": "display_data"
    },
    {
     "data": {
      "text/markdown": [
       "Number of variables: 15"
      ],
      "text/plain": [
       "<IPython.core.display.Markdown object>"
      ]
     },
     "metadata": {},
     "output_type": "display_data"
    }
   ],
   "source": [
    "display(Markdown(\"Number of countries: {}\".format(len(data))))\n",
    "display(Markdown(\"Number of variables: {}\".format(len(data.columns))))"
   ]
  },
  {
   "cell_type": "code",
   "execution_count": 4,
   "metadata": {
    "collapsed": false
   },
   "outputs": [],
   "source": [
    "# Convert interesting variables in numeric format\n",
    "for variable in ('internetuserate', 'suicideper100th', 'employrate'):\n",
    "    data[variable] = pd.to_numeric(data[variable], errors='coerce')"
   ]
  },
  {
   "cell_type": "markdown",
   "metadata": {},
   "source": [
    "\n",
    "But the unemployment rate is not provided directly. In the database, the employment rate (% of the popluation) is available. So the unemployement rate will be computed as `100 - employment rate`:"
   ]
  },
  {
   "cell_type": "code",
   "execution_count": 5,
   "metadata": {
    "collapsed": false
   },
   "outputs": [],
   "source": [
    "data['unemployrate'] = 100. - data['employrate']"
   ]
  },
  {
   "cell_type": "markdown",
   "metadata": {
    "collapsed": false,
    "scrolled": true
   },
   "source": [
    "The first records of the data restricted to the three analyzed variables are:"
   ]
  },
  {
   "cell_type": "code",
   "execution_count": 6,
   "metadata": {
    "collapsed": false,
    "scrolled": true
   },
   "outputs": [
    {
     "data": {
      "text/html": [
       "<div>\n",
       "<table border=\"1\" class=\"dataframe\">\n",
       "  <thead>\n",
       "    <tr style=\"text-align: right;\">\n",
       "      <th></th>\n",
       "      <th>internetuserate</th>\n",
       "      <th>suicideper100th</th>\n",
       "      <th>unemployrate</th>\n",
       "    </tr>\n",
       "    <tr>\n",
       "      <th>country</th>\n",
       "      <th></th>\n",
       "      <th></th>\n",
       "      <th></th>\n",
       "    </tr>\n",
       "  </thead>\n",
       "  <tbody>\n",
       "    <tr>\n",
       "      <th>Afghanistan</th>\n",
       "      <td>3.654122</td>\n",
       "      <td>6.684385</td>\n",
       "      <td>44.299999</td>\n",
       "    </tr>\n",
       "    <tr>\n",
       "      <th>Albania</th>\n",
       "      <td>44.989947</td>\n",
       "      <td>7.699330</td>\n",
       "      <td>48.599998</td>\n",
       "    </tr>\n",
       "    <tr>\n",
       "      <th>Algeria</th>\n",
       "      <td>12.500073</td>\n",
       "      <td>4.848770</td>\n",
       "      <td>49.500000</td>\n",
       "    </tr>\n",
       "    <tr>\n",
       "      <th>Andorra</th>\n",
       "      <td>81.000000</td>\n",
       "      <td>5.362179</td>\n",
       "      <td>NaN</td>\n",
       "    </tr>\n",
       "    <tr>\n",
       "      <th>Angola</th>\n",
       "      <td>9.999954</td>\n",
       "      <td>14.554677</td>\n",
       "      <td>24.300003</td>\n",
       "    </tr>\n",
       "    <tr>\n",
       "      <th>Antigua and Barbuda</th>\n",
       "      <td>80.645455</td>\n",
       "      <td>2.161843</td>\n",
       "      <td>NaN</td>\n",
       "    </tr>\n",
       "    <tr>\n",
       "      <th>Argentina</th>\n",
       "      <td>36.000335</td>\n",
       "      <td>7.765584</td>\n",
       "      <td>41.599998</td>\n",
       "    </tr>\n",
       "    <tr>\n",
       "      <th>Armenia</th>\n",
       "      <td>44.001025</td>\n",
       "      <td>3.741588</td>\n",
       "      <td>59.900002</td>\n",
       "    </tr>\n",
       "    <tr>\n",
       "      <th>Aruba</th>\n",
       "      <td>41.800889</td>\n",
       "      <td>NaN</td>\n",
       "      <td>NaN</td>\n",
       "    </tr>\n",
       "    <tr>\n",
       "      <th>Australia</th>\n",
       "      <td>75.895654</td>\n",
       "      <td>8.470030</td>\n",
       "      <td>38.500000</td>\n",
       "    </tr>\n",
       "  </tbody>\n",
       "</table>\n",
       "</div>"
      ],
      "text/plain": [
       "                     internetuserate  suicideper100th  unemployrate\n",
       "country                                                            \n",
       "Afghanistan                 3.654122         6.684385     44.299999\n",
       "Albania                    44.989947         7.699330     48.599998\n",
       "Algeria                    12.500073         4.848770     49.500000\n",
       "Andorra                    81.000000         5.362179           NaN\n",
       "Angola                      9.999954        14.554677     24.300003\n",
       "Antigua and Barbuda        80.645455         2.161843           NaN\n",
       "Argentina                  36.000335         7.765584     41.599998\n",
       "Armenia                    44.001025         3.741588     59.900002\n",
       "Aruba                      41.800889              NaN           NaN\n",
       "Australia                  75.895654         8.470030     38.500000"
      ]
     },
     "execution_count": 6,
     "metadata": {},
     "output_type": "execute_result"
    }
   ],
   "source": [
    "subdata = data[['internetuserate', 'suicideper100th', 'unemployrate']]\n",
    "subdata.head(10)"
   ]
  },
  {
   "cell_type": "markdown",
   "metadata": {},
   "source": [
    "## Data analysis\n",
    "\n",
    "We will now have a look at the frequencies of the variables after grouping them as all three are continuous variables. I will group the data in intervals using the `cut` function.\n",
    "\n",
    "### Internet use rate distribution"
   ]
  },
  {
   "cell_type": "markdown",
   "metadata": {},
   "source": [
    "As the internet use rate is a quantitative variable, the `distplot` of `seaborn` package will be used."
   ]
  },
  {
   "cell_type": "code",
   "execution_count": 7,
   "metadata": {
    "collapsed": false
   },
   "outputs": [
    {
     "data": {
      "image/png": "[encoded data removed]",
      "text/plain": [
       "<matplotlib.figure.Figure at 0x9f3e908>"
      ]
     },
     "metadata": {},
     "output_type": "display_data"
    }
   ],
   "source": [
    "sns.distplot(subdata['internetuserate'].dropna(), kde=False)\n",
    "plt.xlabel('Internet use rate (%)')\n",
    "_ = plt.title('Internet use rate distribution in the Gapminder data set')"
   ]
  },
  {
   "cell_type": "code",
   "execution_count": 8,
   "metadata": {
    "collapsed": false
   },
   "outputs": [
    {
     "data": {
      "text/plain": [
       "count    192.000000\n",
       "mean      35.632716\n",
       "std       27.780285\n",
       "min        0.210066\n",
       "25%        9.999604\n",
       "50%       31.810121\n",
       "75%       56.416046\n",
       "max       95.638113\n",
       "Name: internetuserate, dtype: float64"
      ]
     },
     "execution_count": 8,
     "metadata": {},
     "output_type": "execute_result"
    }
   ],
   "source": [
    "subdata['internetuserate'].describe()"
   ]
  },
  {
   "cell_type": "markdown",
   "metadata": {},
   "source": [
    "From the bar chart and the descriptive information, there is a obvious concentration of countries having less than 20% internet use rate. A quarter of the countries have even 10% or less internet use rate.\n",
    "\n",
    "The mean is 35.6% with a important standard deviation of 27.8%.\n",
    "\n",
    "The first mode is about 8%. And there is also a second smaller mode around 40%.\n",
    "\n",
    "This distribution is bimodal skewed-right.\n",
    "\n",
    "The distribution range is high; roughly 95%."
   ]
  },
  {
   "cell_type": "markdown",
   "metadata": {},
   "source": [
    "#### Example of analysis for a categorical variable\n",
    "\n",
    "As shown during the last assignement, a categorical variable from the internet use rate can be constructed using the function `cut`.\n",
    "\n",
    "So to train myself with categorical variable, here follows the same chart and description but for the categorical version of the quantitative variable."
   ]
  },
  {
   "cell_type": "code",
   "execution_count": 9,
   "metadata": {
    "collapsed": false,
    "scrolled": false
   },
   "outputs": [
    {
     "data": {
      "text/html": [
       "\n",
       "        <style  type=\"text/css\" >\n",
       "        \n",
       "        \n",
       "            #T_f368715a_1f3f_11e6_bfb0_001bdc0f94edrow0_col0 {\n",
       "            \n",
       "                text-align:  right;\n",
       "            \n",
       "            }\n",
       "        \n",
       "            #T_f368715a_1f3f_11e6_bfb0_001bdc0f94edrow0_col1 {\n",
       "            \n",
       "                text-align:  right;\n",
       "            \n",
       "            }\n",
       "        \n",
       "            #T_f368715a_1f3f_11e6_bfb0_001bdc0f94edrow0_col2 {\n",
       "            \n",
       "                text-align:  right;\n",
       "            \n",
       "            }\n",
       "        \n",
       "            #T_f368715a_1f3f_11e6_bfb0_001bdc0f94edrow0_col3 {\n",
       "            \n",
       "                text-align:  right;\n",
       "            \n",
       "            }\n",
       "        \n",
       "            #T_f368715a_1f3f_11e6_bfb0_001bdc0f94edrow1_col0 {\n",
       "            \n",
       "                text-align:  right;\n",
       "            \n",
       "            }\n",
       "        \n",
       "            #T_f368715a_1f3f_11e6_bfb0_001bdc0f94edrow1_col1 {\n",
       "            \n",
       "                text-align:  right;\n",
       "            \n",
       "            }\n",
       "        \n",
       "            #T_f368715a_1f3f_11e6_bfb0_001bdc0f94edrow1_col2 {\n",
       "            \n",
       "                text-align:  right;\n",
       "            \n",
       "            }\n",
       "        \n",
       "            #T_f368715a_1f3f_11e6_bfb0_001bdc0f94edrow1_col3 {\n",
       "            \n",
       "                text-align:  right;\n",
       "            \n",
       "            }\n",
       "        \n",
       "            #T_f368715a_1f3f_11e6_bfb0_001bdc0f94edrow2_col0 {\n",
       "            \n",
       "                text-align:  right;\n",
       "            \n",
       "            }\n",
       "        \n",
       "            #T_f368715a_1f3f_11e6_bfb0_001bdc0f94edrow2_col1 {\n",
       "            \n",
       "                text-align:  right;\n",
       "            \n",
       "            }\n",
       "        \n",
       "            #T_f368715a_1f3f_11e6_bfb0_001bdc0f94edrow2_col2 {\n",
       "            \n",
       "                text-align:  right;\n",
       "            \n",
       "            }\n",
       "        \n",
       "            #T_f368715a_1f3f_11e6_bfb0_001bdc0f94edrow2_col3 {\n",
       "            \n",
       "                text-align:  right;\n",
       "            \n",
       "            }\n",
       "        \n",
       "            #T_f368715a_1f3f_11e6_bfb0_001bdc0f94edrow3_col0 {\n",
       "            \n",
       "                text-align:  right;\n",
       "            \n",
       "            }\n",
       "        \n",
       "            #T_f368715a_1f3f_11e6_bfb0_001bdc0f94edrow3_col1 {\n",
       "            \n",
       "                text-align:  right;\n",
       "            \n",
       "            }\n",
       "        \n",
       "            #T_f368715a_1f3f_11e6_bfb0_001bdc0f94edrow3_col2 {\n",
       "            \n",
       "                text-align:  right;\n",
       "            \n",
       "            }\n",
       "        \n",
       "            #T_f368715a_1f3f_11e6_bfb0_001bdc0f94edrow3_col3 {\n",
       "            \n",
       "                text-align:  right;\n",
       "            \n",
       "            }\n",
       "        \n",
       "            #T_f368715a_1f3f_11e6_bfb0_001bdc0f94edrow4_col0 {\n",
       "            \n",
       "                text-align:  right;\n",
       "            \n",
       "            }\n",
       "        \n",
       "            #T_f368715a_1f3f_11e6_bfb0_001bdc0f94edrow4_col1 {\n",
       "            \n",
       "                text-align:  right;\n",
       "            \n",
       "            }\n",
       "        \n",
       "            #T_f368715a_1f3f_11e6_bfb0_001bdc0f94edrow4_col2 {\n",
       "            \n",
       "                text-align:  right;\n",
       "            \n",
       "            }\n",
       "        \n",
       "            #T_f368715a_1f3f_11e6_bfb0_001bdc0f94edrow4_col3 {\n",
       "            \n",
       "                text-align:  right;\n",
       "            \n",
       "            }\n",
       "        \n",
       "            #T_f368715a_1f3f_11e6_bfb0_001bdc0f94edrow5_col0 {\n",
       "            \n",
       "                text-align:  right;\n",
       "            \n",
       "            }\n",
       "        \n",
       "            #T_f368715a_1f3f_11e6_bfb0_001bdc0f94edrow5_col1 {\n",
       "            \n",
       "                text-align:  right;\n",
       "            \n",
       "            }\n",
       "        \n",
       "            #T_f368715a_1f3f_11e6_bfb0_001bdc0f94edrow5_col2 {\n",
       "            \n",
       "                text-align:  right;\n",
       "            \n",
       "            }\n",
       "        \n",
       "            #T_f368715a_1f3f_11e6_bfb0_001bdc0f94edrow5_col3 {\n",
       "            \n",
       "                text-align:  right;\n",
       "            \n",
       "            }\n",
       "        \n",
       "            #T_f368715a_1f3f_11e6_bfb0_001bdc0f94edrow6_col0 {\n",
       "            \n",
       "                text-align:  right;\n",
       "            \n",
       "            }\n",
       "        \n",
       "            #T_f368715a_1f3f_11e6_bfb0_001bdc0f94edrow6_col1 {\n",
       "            \n",
       "                text-align:  right;\n",
       "            \n",
       "            }\n",
       "        \n",
       "            #T_f368715a_1f3f_11e6_bfb0_001bdc0f94edrow6_col2 {\n",
       "            \n",
       "                text-align:  right;\n",
       "            \n",
       "            }\n",
       "        \n",
       "            #T_f368715a_1f3f_11e6_bfb0_001bdc0f94edrow6_col3 {\n",
       "            \n",
       "                text-align:  right;\n",
       "            \n",
       "            }\n",
       "        \n",
       "            #T_f368715a_1f3f_11e6_bfb0_001bdc0f94edrow7_col0 {\n",
       "            \n",
       "                text-align:  right;\n",
       "            \n",
       "            }\n",
       "        \n",
       "            #T_f368715a_1f3f_11e6_bfb0_001bdc0f94edrow7_col1 {\n",
       "            \n",
       "                text-align:  right;\n",
       "            \n",
       "            }\n",
       "        \n",
       "            #T_f368715a_1f3f_11e6_bfb0_001bdc0f94edrow7_col2 {\n",
       "            \n",
       "                text-align:  right;\n",
       "            \n",
       "            }\n",
       "        \n",
       "            #T_f368715a_1f3f_11e6_bfb0_001bdc0f94edrow7_col3 {\n",
       "            \n",
       "                text-align:  right;\n",
       "            \n",
       "            }\n",
       "        \n",
       "            #T_f368715a_1f3f_11e6_bfb0_001bdc0f94edrow8_col0 {\n",
       "            \n",
       "                text-align:  right;\n",
       "            \n",
       "            }\n",
       "        \n",
       "            #T_f368715a_1f3f_11e6_bfb0_001bdc0f94edrow8_col1 {\n",
       "            \n",
       "                text-align:  right;\n",
       "            \n",
       "            }\n",
       "        \n",
       "            #T_f368715a_1f3f_11e6_bfb0_001bdc0f94edrow8_col2 {\n",
       "            \n",
       "                text-align:  right;\n",
       "            \n",
       "            }\n",
       "        \n",
       "            #T_f368715a_1f3f_11e6_bfb0_001bdc0f94edrow8_col3 {\n",
       "            \n",
       "                text-align:  right;\n",
       "            \n",
       "            }\n",
       "        \n",
       "            #T_f368715a_1f3f_11e6_bfb0_001bdc0f94edrow9_col0 {\n",
       "            \n",
       "                text-align:  right;\n",
       "            \n",
       "            }\n",
       "        \n",
       "            #T_f368715a_1f3f_11e6_bfb0_001bdc0f94edrow9_col1 {\n",
       "            \n",
       "                text-align:  right;\n",
       "            \n",
       "            }\n",
       "        \n",
       "            #T_f368715a_1f3f_11e6_bfb0_001bdc0f94edrow9_col2 {\n",
       "            \n",
       "                text-align:  right;\n",
       "            \n",
       "            }\n",
       "        \n",
       "            #T_f368715a_1f3f_11e6_bfb0_001bdc0f94edrow9_col3 {\n",
       "            \n",
       "                text-align:  right;\n",
       "            \n",
       "            }\n",
       "        \n",
       "            #T_f368715a_1f3f_11e6_bfb0_001bdc0f94edrow10_col0 {\n",
       "            \n",
       "                text-align:  right;\n",
       "            \n",
       "            }\n",
       "        \n",
       "            #T_f368715a_1f3f_11e6_bfb0_001bdc0f94edrow10_col1 {\n",
       "            \n",
       "                text-align:  right;\n",
       "            \n",
       "            }\n",
       "        \n",
       "            #T_f368715a_1f3f_11e6_bfb0_001bdc0f94edrow10_col2 {\n",
       "            \n",
       "                text-align:  right;\n",
       "            \n",
       "            }\n",
       "        \n",
       "            #T_f368715a_1f3f_11e6_bfb0_001bdc0f94edrow10_col3 {\n",
       "            \n",
       "                text-align:  right;\n",
       "            \n",
       "            }\n",
       "        \n",
       "        </style>\n",
       "\n",
       "        <table id=\"T_f368715a_1f3f_11e6_bfb0_001bdc0f94ed\" None>\n",
       "        \n",
       "\n",
       "        <thead>\n",
       "            \n",
       "            <tr>\n",
       "                \n",
       "                <th class=\"blank\">\n",
       "                \n",
       "                <th class=\"col_heading level0 col0\">Counts\n",
       "                \n",
       "                <th class=\"col_heading level0 col1\">Cumulative counts\n",
       "                \n",
       "                <th class=\"col_heading level0 col2\">Percentages\n",
       "                \n",
       "                <th class=\"col_heading level0 col3\">Cumulative percentages\n",
       "                \n",
       "            </tr>\n",
       "            \n",
       "            <tr>\n",
       "                \n",
       "                <th class=\"col_heading level2 col0\">Internet use rate (per 100 people)\n",
       "                \n",
       "                <th class=\"blank\">\n",
       "                \n",
       "                <th class=\"blank\">\n",
       "                \n",
       "                <th class=\"blank\">\n",
       "                \n",
       "                <th class=\"blank\">\n",
       "                \n",
       "            </tr>\n",
       "            \n",
       "        </thead>\n",
       "        <tbody>\n",
       "            \n",
       "            <tr>\n",
       "                \n",
       "                <th id=\"T_f368715a_1f3f_11e6_bfb0_001bdc0f94ed\" class=\"row_heading level0 row0\">\n",
       "                    (0, 10]\n",
       "                \n",
       "                <td id=\"T_f368715a_1f3f_11e6_bfb0_001bdc0f94edrow0_col0\" class=\"data row0 col0\">\n",
       "                    49\n",
       "                \n",
       "                <td id=\"T_f368715a_1f3f_11e6_bfb0_001bdc0f94edrow0_col1\" class=\"data row0 col1\">\n",
       "                    49\n",
       "                \n",
       "                <td id=\"T_f368715a_1f3f_11e6_bfb0_001bdc0f94edrow0_col2\" class=\"data row0 col2\">\n",
       "                    0.23\n",
       "                \n",
       "                <td id=\"T_f368715a_1f3f_11e6_bfb0_001bdc0f94edrow0_col3\" class=\"data row0 col3\">\n",
       "                    0.23\n",
       "                \n",
       "            </tr>\n",
       "            \n",
       "            <tr>\n",
       "                \n",
       "                <th id=\"T_f368715a_1f3f_11e6_bfb0_001bdc0f94ed\" class=\"row_heading level3 row1\">\n",
       "                    (10, 20]\n",
       "                \n",
       "                <td id=\"T_f368715a_1f3f_11e6_bfb0_001bdc0f94edrow1_col0\" class=\"data row1 col0\">\n",
       "                    27\n",
       "                \n",
       "                <td id=\"T_f368715a_1f3f_11e6_bfb0_001bdc0f94edrow1_col1\" class=\"data row1 col1\">\n",
       "                    76\n",
       "                \n",
       "                <td id=\"T_f368715a_1f3f_11e6_bfb0_001bdc0f94edrow1_col2\" class=\"data row1 col2\">\n",
       "                    0.127\n",
       "                \n",
       "                <td id=\"T_f368715a_1f3f_11e6_bfb0_001bdc0f94edrow1_col3\" class=\"data row1 col3\">\n",
       "                    0.357\n",
       "                \n",
       "            </tr>\n",
       "            \n",
       "            <tr>\n",
       "                \n",
       "                <th id=\"T_f368715a_1f3f_11e6_bfb0_001bdc0f94ed\" class=\"row_heading level3 row2\">\n",
       "                    (20, 30]\n",
       "                \n",
       "                <td id=\"T_f368715a_1f3f_11e6_bfb0_001bdc0f94edrow2_col0\" class=\"data row2 col0\">\n",
       "                    17\n",
       "                \n",
       "                <td id=\"T_f368715a_1f3f_11e6_bfb0_001bdc0f94edrow2_col1\" class=\"data row2 col1\">\n",
       "                    93\n",
       "                \n",
       "                <td id=\"T_f368715a_1f3f_11e6_bfb0_001bdc0f94edrow2_col2\" class=\"data row2 col2\">\n",
       "                    0.0798\n",
       "                \n",
       "                <td id=\"T_f368715a_1f3f_11e6_bfb0_001bdc0f94edrow2_col3\" class=\"data row2 col3\">\n",
       "                    0.437\n",
       "                \n",
       "            </tr>\n",
       "            \n",
       "            <tr>\n",
       "                \n",
       "                <th id=\"T_f368715a_1f3f_11e6_bfb0_001bdc0f94ed\" class=\"row_heading level3 row3\">\n",
       "                    (30, 40]\n",
       "                \n",
       "                <td id=\"T_f368715a_1f3f_11e6_bfb0_001bdc0f94edrow3_col0\" class=\"data row3 col0\">\n",
       "                    18\n",
       "                \n",
       "                <td id=\"T_f368715a_1f3f_11e6_bfb0_001bdc0f94edrow3_col1\" class=\"data row3 col1\">\n",
       "                    111\n",
       "                \n",
       "                <td id=\"T_f368715a_1f3f_11e6_bfb0_001bdc0f94edrow3_col2\" class=\"data row3 col2\">\n",
       "                    0.0845\n",
       "                \n",
       "                <td id=\"T_f368715a_1f3f_11e6_bfb0_001bdc0f94edrow3_col3\" class=\"data row3 col3\">\n",
       "                    0.521\n",
       "                \n",
       "            </tr>\n",
       "            \n",
       "            <tr>\n",
       "                \n",
       "                <th id=\"T_f368715a_1f3f_11e6_bfb0_001bdc0f94ed\" class=\"row_heading level3 row4\">\n",
       "                    (40, 50]\n",
       "                \n",
       "                <td id=\"T_f368715a_1f3f_11e6_bfb0_001bdc0f94edrow4_col0\" class=\"data row4 col0\">\n",
       "                    25\n",
       "                \n",
       "                <td id=\"T_f368715a_1f3f_11e6_bfb0_001bdc0f94edrow4_col1\" class=\"data row4 col1\">\n",
       "                    136\n",
       "                \n",
       "                <td id=\"T_f368715a_1f3f_11e6_bfb0_001bdc0f94edrow4_col2\" class=\"data row4 col2\">\n",
       "                    0.117\n",
       "                \n",
       "                <td id=\"T_f368715a_1f3f_11e6_bfb0_001bdc0f94edrow4_col3\" class=\"data row4 col3\">\n",
       "                    0.638\n",
       "                \n",
       "            </tr>\n",
       "            \n",
       "            <tr>\n",
       "                \n",
       "                <th id=\"T_f368715a_1f3f_11e6_bfb0_001bdc0f94ed\" class=\"row_heading level3 row5\">\n",
       "                    (50, 60]\n",
       "                \n",
       "                <td id=\"T_f368715a_1f3f_11e6_bfb0_001bdc0f94edrow5_col0\" class=\"data row5 col0\">\n",
       "                    9\n",
       "                \n",
       "                <td id=\"T_f368715a_1f3f_11e6_bfb0_001bdc0f94edrow5_col1\" class=\"data row5 col1\">\n",
       "                    145\n",
       "                \n",
       "                <td id=\"T_f368715a_1f3f_11e6_bfb0_001bdc0f94edrow5_col2\" class=\"data row5 col2\">\n",
       "                    0.0423\n",
       "                \n",
       "                <td id=\"T_f368715a_1f3f_11e6_bfb0_001bdc0f94edrow5_col3\" class=\"data row5 col3\">\n",
       "                    0.681\n",
       "                \n",
       "            </tr>\n",
       "            \n",
       "            <tr>\n",
       "                \n",
       "                <th id=\"T_f368715a_1f3f_11e6_bfb0_001bdc0f94ed\" class=\"row_heading level3 row6\">\n",
       "                    (60, 70]\n",
       "                \n",
       "                <td id=\"T_f368715a_1f3f_11e6_bfb0_001bdc0f94edrow6_col0\" class=\"data row6 col0\">\n",
       "                    14\n",
       "                \n",
       "                <td id=\"T_f368715a_1f3f_11e6_bfb0_001bdc0f94edrow6_col1\" class=\"data row6 col1\">\n",
       "                    159\n",
       "                \n",
       "                <td id=\"T_f368715a_1f3f_11e6_bfb0_001bdc0f94edrow6_col2\" class=\"data row6 col2\">\n",
       "                    0.0657\n",
       "                \n",
       "                <td id=\"T_f368715a_1f3f_11e6_bfb0_001bdc0f94edrow6_col3\" class=\"data row6 col3\">\n",
       "                    0.746\n",
       "                \n",
       "            </tr>\n",
       "            \n",
       "            <tr>\n",
       "                \n",
       "                <th id=\"T_f368715a_1f3f_11e6_bfb0_001bdc0f94ed\" class=\"row_heading level3 row7\">\n",
       "                    (70, 80]\n",
       "                \n",
       "                <td id=\"T_f368715a_1f3f_11e6_bfb0_001bdc0f94edrow7_col0\" class=\"data row7 col0\">\n",
       "                    16\n",
       "                \n",
       "                <td id=\"T_f368715a_1f3f_11e6_bfb0_001bdc0f94edrow7_col1\" class=\"data row7 col1\">\n",
       "                    175\n",
       "                \n",
       "                <td id=\"T_f368715a_1f3f_11e6_bfb0_001bdc0f94edrow7_col2\" class=\"data row7 col2\">\n",
       "                    0.0751\n",
       "                \n",
       "                <td id=\"T_f368715a_1f3f_11e6_bfb0_001bdc0f94edrow7_col3\" class=\"data row7 col3\">\n",
       "                    0.822\n",
       "                \n",
       "            </tr>\n",
       "            \n",
       "            <tr>\n",
       "                \n",
       "                <th id=\"T_f368715a_1f3f_11e6_bfb0_001bdc0f94ed\" class=\"row_heading level3 row8\">\n",
       "                    (80, 90]\n",
       "                \n",
       "                <td id=\"T_f368715a_1f3f_11e6_bfb0_001bdc0f94edrow8_col0\" class=\"data row8 col0\">\n",
       "                    12\n",
       "                \n",
       "                <td id=\"T_f368715a_1f3f_11e6_bfb0_001bdc0f94edrow8_col1\" class=\"data row8 col1\">\n",
       "                    187\n",
       "                \n",
       "                <td id=\"T_f368715a_1f3f_11e6_bfb0_001bdc0f94edrow8_col2\" class=\"data row8 col2\">\n",
       "                    0.0563\n",
       "                \n",
       "                <td id=\"T_f368715a_1f3f_11e6_bfb0_001bdc0f94edrow8_col3\" class=\"data row8 col3\">\n",
       "                    0.878\n",
       "                \n",
       "            </tr>\n",
       "            \n",
       "            <tr>\n",
       "                \n",
       "                <th id=\"T_f368715a_1f3f_11e6_bfb0_001bdc0f94ed\" class=\"row_heading level3 row9\">\n",
       "                    (90, 100]\n",
       "                \n",
       "                <td id=\"T_f368715a_1f3f_11e6_bfb0_001bdc0f94edrow9_col0\" class=\"data row9 col0\">\n",
       "                    5\n",
       "                \n",
       "                <td id=\"T_f368715a_1f3f_11e6_bfb0_001bdc0f94edrow9_col1\" class=\"data row9 col1\">\n",
       "                    192\n",
       "                \n",
       "                <td id=\"T_f368715a_1f3f_11e6_bfb0_001bdc0f94edrow9_col2\" class=\"data row9 col2\">\n",
       "                    0.0235\n",
       "                \n",
       "                <td id=\"T_f368715a_1f3f_11e6_bfb0_001bdc0f94edrow9_col3\" class=\"data row9 col3\">\n",
       "                    0.901\n",
       "                \n",
       "            </tr>\n",
       "            \n",
       "            <tr>\n",
       "                \n",
       "                <th id=\"T_f368715a_1f3f_11e6_bfb0_001bdc0f94ed\" class=\"row_heading level3 row10\">\n",
       "                    nan\n",
       "                \n",
       "                <td id=\"T_f368715a_1f3f_11e6_bfb0_001bdc0f94edrow10_col0\" class=\"data row10 col0\">\n",
       "                    21\n",
       "                \n",
       "                <td id=\"T_f368715a_1f3f_11e6_bfb0_001bdc0f94edrow10_col1\" class=\"data row10 col1\">\n",
       "                    213\n",
       "                \n",
       "                <td id=\"T_f368715a_1f3f_11e6_bfb0_001bdc0f94edrow10_col2\" class=\"data row10 col2\">\n",
       "                    0.0986\n",
       "                \n",
       "                <td id=\"T_f368715a_1f3f_11e6_bfb0_001bdc0f94edrow10_col3\" class=\"data row10 col3\">\n",
       "                    1\n",
       "                \n",
       "            </tr>\n",
       "            \n",
       "        </tbody>\n",
       "        </table>\n",
       "        "
      ],
      "text/plain": [
       "<pandas.core.style.Styler at 0xa046470>"
      ]
     },
     "execution_count": 9,
     "metadata": {},
     "output_type": "execute_result"
    }
   ],
   "source": [
    "internetuserate_bins = pd.cut(subdata['internetuserate'], \n",
    "                              bins=np.linspace(0, 100., num=11))\n",
    "\n",
    "counts1 = internetuserate_bins.value_counts(sort=False, dropna=False)\n",
    "percentage1 = internetuserate_bins.value_counts(sort=False, normalize=True, dropna=False)\n",
    "data_struct = {\n",
    "    'Counts' : counts1,\n",
    "    'Cumulative counts' : counts1.cumsum(),\n",
    "    'Percentages' : percentage1,\n",
    "    'Cumulative percentages' : percentage1.cumsum()\n",
    "}\n",
    "\n",
    "internetrate_summary = pd.DataFrame(data_struct)\n",
    "internetrate_summary.index.name = 'Internet use rate (per 100 people)'\n",
    "(internetrate_summary[['Counts', 'Cumulative counts', 'Percentages', 'Cumulative percentages']]\n",
    "                     .style.set_precision(3)\n",
    "                           .set_properties(**{'text-align':'right'}))"
   ]
  },
  {
   "cell_type": "code",
   "execution_count": 10,
   "metadata": {
    "collapsed": false
   },
   "outputs": [
    {
     "data": {
      "image/png": "[encoded data removed]",
      "text/plain": [
       "<matplotlib.figure.Figure at 0x9fdac50>"
      ]
     },
     "metadata": {},
     "output_type": "display_data"
    }
   ],
   "source": [
    "sns.countplot(internetuserate_bins)\n",
    "plt.xlabel('Internet use rate (%)')\n",
    "_ = plt.title('Internet use rate distribution in the Gapminder data set')"
   ]
  },
  {
   "cell_type": "code",
   "execution_count": 11,
   "metadata": {
    "collapsed": false
   },
   "outputs": [
    {
     "data": {
      "text/plain": [
       "count         192\n",
       "unique         10\n",
       "top       (0, 10]\n",
       "freq           49\n",
       "Name: internetuserate, dtype: object"
      ]
     },
     "execution_count": 11,
     "metadata": {},
     "output_type": "execute_result"
    }
   ],
   "source": [
    "internetuserate_bins.describe()"
   ]
  },
  {
   "cell_type": "markdown",
   "metadata": {},
   "source": [
    "The conclusions drawn form the quantitative variable are of course confirmed here."
   ]
  },
  {
   "cell_type": "markdown",
   "metadata": {},
   "source": [
    "### Suicide per 100,000 people distribution"
   ]
  },
  {
   "cell_type": "markdown",
   "metadata": {},
   "source": [
    "As the suicide per 100,000 people is a quantitative variable, the `distplot` of `seaborn` package will be used."
   ]
  },
  {
   "cell_type": "code",
   "execution_count": 12,
   "metadata": {
    "collapsed": false
   },
   "outputs": [
    {
     "data": {
      "image/png": "[encoded data removed]",
      "text/plain": [
       "<matplotlib.figure.Figure at 0xac7d128>"
      ]
     },
     "metadata": {},
     "output_type": "display_data"
    }
   ],
   "source": [
    "sns.distplot(subdata['suicideper100th'].dropna(), kde=False)\n",
    "plt.xlabel('Suicide per 100 000 people (-)')\n",
    "_ = plt.title('Suicide per 100 000 people in the Gapminder data set')"
   ]
  },
  {
   "cell_type": "code",
   "execution_count": 13,
   "metadata": {
    "collapsed": false
   },
   "outputs": [
    {
     "data": {
      "text/plain": [
       "count    191.000000\n",
       "mean       9.640839\n",
       "std        6.300178\n",
       "min        0.201449\n",
       "25%        4.988449\n",
       "50%        8.262893\n",
       "75%       12.328551\n",
       "max       35.752872\n",
       "Name: suicideper100th, dtype: float64"
      ]
     },
     "execution_count": 13,
     "metadata": {},
     "output_type": "execute_result"
    }
   ],
   "source": [
    "subdata['suicideper100th'].describe()"
   ]
  },
  {
   "cell_type": "markdown",
   "metadata": {},
   "source": [
    "From the bar chart and the descriptive information, 75% of the countries have less than 12 suicide per 100,000 people.\n",
    "\n",
    "The mean is 9.6 with a standard deviation of 6.3.\n",
    "\n",
    "This distribution is unimodal and skewed-right.\n",
    "\n",
    "The distribution range is about 35."
   ]
  },
  {
   "cell_type": "markdown",
   "metadata": {},
   "source": [
    "###  Unemployment rate distribution"
   ]
  },
  {
   "cell_type": "markdown",
   "metadata": {},
   "source": [
    "As the unemployement rate is a quantitative variable, the `distplot` of `seaborn` package will be used."
   ]
  },
  {
   "cell_type": "code",
   "execution_count": 14,
   "metadata": {
    "collapsed": false
   },
   "outputs": [
    {
     "data": {
      "image/png": "[encoded data removed]",
      "text/plain": [
       "<matplotlib.figure.Figure at 0xac5ef28>"
      ]
     },
     "metadata": {},
     "output_type": "display_data"
    }
   ],
   "source": [
    "sns.distplot(subdata['unemployrate'].dropna(), kde=False)\n",
    "plt.xlabel('Unemployement rate (% population age 15+) (-)')\n",
    "_ = plt.title('Unemployement rate (% population age 15+) in the Gapminder data set')"
   ]
  },
  {
   "cell_type": "code",
   "execution_count": 15,
   "metadata": {
    "collapsed": false
   },
   "outputs": [
    {
     "data": {
      "text/plain": [
       "count    178.000000\n",
       "mean      41.364045\n",
       "std       10.519454\n",
       "min       16.800003\n",
       "25%       35.025000\n",
       "50%       41.300001\n",
       "75%       48.775000\n",
       "max       68.000000\n",
       "Name: unemployrate, dtype: float64"
      ]
     },
     "execution_count": 15,
     "metadata": {},
     "output_type": "execute_result"
    }
   ],
   "source": [
    "subdata['unemployrate'].describe()"
   ]
  },
  {
   "cell_type": "markdown",
   "metadata": {},
   "source": [
    "There is a clear peak around the mean (~42%).\n",
    "\n",
    "The mean is 41.4% with a standard deviation of 10.5%.\n",
    "\n",
    "This distribution is unimodal and symmetric.\n",
    "\n",
    "The distribution range is roughly 51%."
   ]
  },
  {
   "cell_type": "markdown",
   "metadata": {},
   "source": [
    "## Graphing decisions\n",
    "\n",
    "Now that the univariate distribution as be plotted and described, the bivariate graphics will be plotted in order to test our research hypothesis.\n",
    "\n",
    "Let's first focus on the primary research question;\n",
    "\n",
    "- The explanatory variable is the internet use rate (quantitative variable)\n",
    "- The response variable is the suicide per 100,000 people (quantitative variable)\n",
    "\n",
    "Due to the variable types, a scatterplot seems to be the graphical solution to apply."
   ]
  },
  {
   "cell_type": "code",
   "execution_count": 16,
   "metadata": {
    "collapsed": false,
    "scrolled": false
   },
   "outputs": [
    {
     "data": {
      "image/png": "[encoded data removed]",
      "text/plain": [
       "<matplotlib.figure.Figure at 0xae262e8>"
      ]
     },
     "metadata": {},
     "output_type": "display_data"
    }
   ],
   "source": [
    "sns.regplot(x='internetuserate', y='suicideper100th', data=subdata)\n",
    "plt.xlabel('Internet use rate (%)')\n",
    "plt.ylabel('Suicide per 100 000 people (-)')\n",
    "_ = plt.title('Scatterplot for the association between the Internet use rate and suicide per 100,000 people')"
   ]
  },
  {
   "cell_type": "markdown",
   "metadata": {},
   "source": [
    "The regression line is only slightly positive. So it is unclear whether there is a link or not. But as most of the countries have no or very low internet use rate, an effect is maybe seen only on the countries having the higher internet use rate. "
   ]
  },
  {
   "cell_type": "code",
   "execution_count": 17,
   "metadata": {
    "collapsed": false,
    "scrolled": false
   },
   "outputs": [
    {
     "data": {
      "image/png": "[encoded data removed]",
      "text/plain": [
       "<matplotlib.figure.Figure at 0xae23c18>"
      ]
     },
     "metadata": {},
     "output_type": "display_data"
    }
   ],
   "source": [
    "subdata2 = subdata.assign(internet_grp4 = pd.qcut(subdata.internetuserate, 4, \n",
    "                                       labels=[\"1=25th%tile\", \"2=50th%tile\", \n",
    "                                               \"3=75th%tile\", \"4=100th%tile\"]))\n",
    "sns.factorplot(x='internet_grp4', y='suicideper100th', data=subdata2, \n",
    "               kind=\"bar\", ci=None)\n",
    "plt.xlabel('Internet use rate (%)')\n",
    "plt.ylabel('Suicide per 100 000 people (-)')\n",
    "_ = plt.title('Average suicide per 100,000 people per internet use rate quartile')"
   ]
  },
  {
   "cell_type": "markdown",
   "metadata": {},
   "source": [
    "By grouping the data in quartile, the hypothesis of an increasing of suicide with internet use rate may be valid only for countries with a heavy use of internet.\n",
    "\n",
    "It is time to look at the second potential explanatory variable : the unemployment rate. As that variable is quantitative again, the scatterplot will be used."
   ]
  },
  {
   "cell_type": "code",
   "execution_count": 18,
   "metadata": {
    "collapsed": false,
    "scrolled": true
   },
   "outputs": [
    {
     "data": {
      "image/png": "[encoded data removed]",
      "text/plain": [
       "<matplotlib.figure.Figure at 0xace4748>"
      ]
     },
     "metadata": {},
     "output_type": "display_data"
    }
   ],
   "source": [
    "sns.regplot(x='unemployrate', y='suicideper100th', data=subdata)\n",
    "plt.xlabel('Unemployment rate (%)')\n",
    "plt.ylabel('Suicide per 100 000 people (-)')\n",
    "_ = plt.title('Scatterplot for the association between the unemployment rate and suicide per 100,000 people')"
   ]
  },
  {
   "cell_type": "markdown",
   "metadata": {},
   "source": [
    "It seems there is no correlation between unemployment rate and suicide."
   ]
  },
  {
   "cell_type": "markdown",
   "metadata": {
    "collapsed": true
   },
   "source": [
    "## Summary\n",
    "\n",
    "The Gapminder data based provides information for 213 countries. \n",
    "\n",
    "As the unemployment rate is not provided directly in the database, it was computed as `100 - employment rate`.\n",
    "\n",
    "The distributions of the variables are as follow:\n",
    "\n",
    "- Internet Use Rate per 100 people\n",
    "    * Data missing for 21 countries\n",
    "    * Rate ranges from 0.21 to 95.64\n",
    "    * The majority of the countries (64%) have a rate below 50\n",
    "    * The distribution is bimodal (first mode ~8% and second ~40%) and skewed-right\n",
    "- Suicide Rate per 100 000\n",
    "    * Data missing for 22 countries\n",
    "    * Rate ranges from 0.2 to 35.75\n",
    "    * The rate is more often between 4 and 12\n",
    "    * The distribution is unimode (mode ~9) and skewed-right\n",
    "- Unemployment Rate for age 15+\n",
    "    * Data missing for 35 countries\n",
    "    * Rate ranges from 16.8 to 68\n",
    "    * For the majority of the countries the rate lies below 45\n",
    "    * The distribution is unimode (mean ~41.4) and symmetric\n",
    "    \n",
    "From the bivariate graphics, the internet use rate may have a slight effect on suicide. But if it's the case, it seems only true for countries having an important internet use rate. And the unemployment rate seems to have no influence on suicide. I have to admit those conclusions surprised me as I was a priori thinking that unemployment rate would have a stronger effect on suicide compare to internet use rate.\n",
    "\n"
   ]
  },
  {
   "cell_type": "markdown",
   "metadata": {},
   "source": [
    "> If you are interested by the subject, follow me on [Tumblr](http://fcollonval.tumblr.com/)."
   ]
  }
 ],
 "metadata": {
  "hide_input": false,
  "kernelspec": {
   "display_name": "Python 3",
   "language": "python",
   "name": "python3"
  },
  "language_info": {
   "codemirror_mode": {
    "name": "ipython",
    "version": 3
   },
   "file_extension": ".py",
   "mimetype": "text/x-python",
   "name": "python",
   "nbconvert_exporter": "python",
   "pygments_lexer": "ipython3",
   "version": "3.4.4"
  },
  "toc": {
   "toc_cell": false,
   "toc_number_sections": true,
   "toc_threshold": "3",
   "toc_window_display": false
  }
 },
 "nbformat": 4,
 "nbformat_minor": 0
}
