{
 "cells": [
  {
   "cell_type": "markdown",
   "metadata": {},
   "source": [
    "# Regression Modeling in Practice\n",
    "# Assignment: Test a Logistic Regression Model\n",
    "\n",
    "Following is the Python program I wrote to fulfill the fourth assignment of the [Regression Modeling in Practice online course](https://www.coursera.org/learn/regression-modeling-practice/home/welcome).\n",
    "\n",
    "I decided to use [Jupyter Notebook](http://nbviewer.jupyter.org/github/ipython/ipython/blob/3.x/examples/Notebook/Index.ipynb) as it is a pretty way to write code and present results.\n",
    "\n",
    "## Research question for this assignment\n",
    "\n",
    "For this assignment, I decided to use the NESARC database with the following question : *Are people from white ethnicity more likely to have ever used cannabis?*\n",
    "\n",
    "The potential other explanatory variables will be:\n",
    "\n",
    "- Age\n",
    "- Sex\n",
    "- Family income\n",
    "\n",
    "## Data management\n",
    "\n",
    "The data will be managed to get cannabis usage recoded from 0 (never used cannabis) and 1 (used cannabis). The non-answering recordings (reported as 9) will be discarded.\n",
    "\n",
    "The response variable having 2 categories, categories grouping is not needed.\n",
    "\n",
    "The other categorical variable (sex) will be recoded such that 0 means female and 1 equals male. And the two quantitative explanatory variables (age and family income) will be centered.\n"
   ]
  },
  {
   "cell_type": "code",
   "execution_count": 1,
   "metadata": {
    "collapsed": false,
    "hide_input": false,
    "scrolled": true
   },
   "outputs": [],
   "source": [
    "# Magic command to insert the graph directly in the notebook\n",
    "%matplotlib inline\n",
    "# Load a useful Python libraries for handling data\n",
    "import pandas as pd\n",
    "import numpy as np\n",
    "import statsmodels.formula.api as smf\n",
    "import seaborn as sns\n",
    "import matplotlib.pyplot as plt\n",
    "from IPython.display import Markdown, display"
   ]
  },
  {
   "cell_type": "code",
   "execution_count": 2,
   "metadata": {
    "collapsed": false
   },
   "outputs": [
    {
     "name": "stderr",
     "output_type": "stream",
     "text": [
      "C:\\Anaconda3\\lib\\site-packages\\IPython\\core\\interactiveshell.py:2723: DtypeWarning: Columns (76) have mixed types. Specify dtype option on import or set low_memory=False.\n",
      "  interactivity=interactivity, compiler=compiler, result=result)\n"
     ]
    }
   ],
   "source": [
    "nesarc = pd.read_csv('nesarc_pds.csv')"
   ]
  },
  {
   "cell_type": "code",
   "execution_count": 3,
   "metadata": {
    "collapsed": true
   },
   "outputs": [],
   "source": [
    "canabis_usage = {1 : 1, 2 : 0, 9 : 9}\n",
    "sex_shift = {1 : 1, 2 : 0}\n",
    "white_race = {1 : 1, 2 : 0}\n",
    "\n",
    "subnesarc = (nesarc[['AGE', 'SEX', 'S1Q1D5', 'S1Q7D', 'S3BQ1A5', 'S1Q11A']]\n",
    "             .assign(sex=lambda x: pd.to_numeric(x['SEX'].map(sex_shift)),\n",
    "                     white_ethnicity=lambda x: pd.to_numeric(x['S1Q1D5'].map(white_race)),\n",
    "                     used_canabis=lambda x: (pd.to_numeric(x['S3BQ1A5'], errors='coerce')\n",
    "                                                .map(canabis_usage)\n",
    "                                                .replace(9, np.nan)),\n",
    "                     family_income=lambda x: (pd.to_numeric(x['S1Q11A'], errors='coerce')))\n",
    "             .dropna())\n",
    "\n",
    "centered_nesarc = subnesarc.assign(age_c=subnesarc['AGE']-subnesarc['AGE'].mean(),\n",
    "                                   family_income_c=subnesarc['family_income']-subnesarc['family_income'].mean())"
   ]
  },
  {
   "cell_type": "code",
   "execution_count": 21,
   "metadata": {
    "collapsed": false
   },
   "outputs": [
    {
     "data": {
      "text/markdown": [
       "Mean age : 46"
      ],
      "text/plain": [
       "<IPython.core.display.Markdown object>"
      ]
     },
     "metadata": {},
     "output_type": "display_data"
    },
    {
     "data": {
      "text/markdown": [
       "Mean family income last year: 45631$"
      ],
      "text/plain": [
       "<IPython.core.display.Markdown object>"
      ]
     },
     "metadata": {},
     "output_type": "display_data"
    }
   ],
   "source": [
    "display(Markdown(\"Mean age : {:.0f}\".format(centered_nesarc['AGE'].mean())))\n",
    "display(Markdown(\"Mean family income last year: {:.0f}$\".format(centered_nesarc['family_income'].mean())))"
   ]
  },
  {
   "cell_type": "markdown",
   "metadata": {},
   "source": [
    "Let's check that the quantitative variable are effectively centered."
   ]
  },
  {
   "cell_type": "code",
   "execution_count": 4,
   "metadata": {
    "collapsed": false
   },
   "outputs": [
    {
     "name": "stdout",
     "output_type": "stream",
     "text": [
      "Centered age\n",
      "count    4.272500e+04\n",
      "mean    -2.667486e-13\n",
      "std      1.819181e+01\n",
      "min     -2.841439e+01\n",
      "25%     -1.441439e+01\n",
      "50%     -2.414394e+00\n",
      "75%      1.258561e+01\n",
      "max      5.158561e+01\n",
      "Name: age_c, dtype: float64\n",
      "\n",
      "Centered family income\n",
      "count    4.272500e+04\n",
      "mean    -5.710829e-10\n",
      "std      5.777221e+04\n",
      "min     -4.560694e+04\n",
      "25%     -2.863094e+04\n",
      "50%     -1.263094e+04\n",
      "75%      1.436906e+04\n",
      "max      2.954369e+06\n",
      "Name: family_income_c, dtype: float64\n"
     ]
    }
   ],
   "source": [
    "print(\"Centered age\")\n",
    "print(centered_nesarc['age_c'].describe())\n",
    "print(\"\\nCentered family income\")\n",
    "print(centered_nesarc['family_income_c'].describe())"
   ]
  },
  {
   "cell_type": "markdown",
   "metadata": {},
   "source": [
    "The means are both very close to 0; confirming the centering.\n",
    "\n",
    "## Distributions visualization\n",
    "\n",
    "The following plots shows the distribution of all 3 explanatory variables with the response variable."
   ]
  },
  {
   "cell_type": "code",
   "execution_count": 6,
   "metadata": {
    "collapsed": false,
    "scrolled": true
   },
   "outputs": [
    {
     "data": {
      "image/png": "[encoded data removed]",
      "text/plain": [
       "<matplotlib.figure.Figure at 0x16b218d9ac8>"
      ]
     },
     "metadata": {},
     "output_type": "display_data"
    }
   ],
   "source": [
    "g = sns.factorplot(x='white_ethnicity', y='used_canabis', data=centered_nesarc, \n",
    "                   kind=\"bar\", ci=None)\n",
    "g.set_xticklabels(['Non White', 'White'])\n",
    "plt.xlabel('White ethnicity')\n",
    "plt.ylabel('Ever used cannabis')\n",
    "plt.title('Ever used cannabis dependance on the white ethnicity');"
   ]
  },
  {
   "cell_type": "code",
   "execution_count": 5,
   "metadata": {
    "collapsed": false
   },
   "outputs": [
    {
     "data": {
      "image/png": "[encoded data removed]",
      "text/plain": [
       "<matplotlib.figure.Figure at 0x16b218d9f28>"
      ]
     },
     "metadata": {},
     "output_type": "display_data"
    }
   ],
   "source": [
    "g = sns.factorplot(x='sex', y='used_canabis', data=centered_nesarc, \n",
    "                   kind=\"bar\", ci=None)\n",
    "g.set_xticklabels(['Female', 'Male'])\n",
    "plt.ylabel('Ever used cannabis')\n",
    "plt.title('Ever used cannabis dependance on the sex');"
   ]
  },
  {
   "cell_type": "code",
   "execution_count": 7,
   "metadata": {
    "collapsed": false
   },
   "outputs": [
    {
     "data": {
      "image/png": "[encoded data removed]",
      "text/plain": [
       "<matplotlib.figure.Figure at 0x16b6c1858d0>"
      ]
     },
     "metadata": {},
     "output_type": "display_data"
    }
   ],
   "source": [
    "g = sns.boxplot(x='used_canabis', y='family_income', data=centered_nesarc)\n",
    "g.set_yscale('log')\n",
    "g.set_xticklabels(('No', 'Yes'))\n",
    "plt.xlabel('Ever used cannabis')\n",
    "plt.ylabel('Family income ($)');"
   ]
  },
  {
   "cell_type": "code",
   "execution_count": 8,
   "metadata": {
    "collapsed": false
   },
   "outputs": [
    {
     "data": {
      "image/png": "[encoded data removed]",
      "text/plain": [
       "<matplotlib.figure.Figure at 0x16b6e416898>"
      ]
     },
     "metadata": {},
     "output_type": "display_data"
    }
   ],
   "source": [
    "g = sns.boxplot(x='used_canabis', y='AGE', data=centered_nesarc)\n",
    "g.set_xticklabels(('No', 'Yes'))\n",
    "plt.xlabel('Ever used cannabis')\n",
    "plt.ylabel('Age');"
   ]
  },
  {
   "cell_type": "markdown",
   "metadata": {},
   "source": [
    "The four plots above show the following trends:\n",
    "- More white people tries cannabis more than non-white\n",
    "- Male people tries cannabis more than female\n",
    "- Younger people tries cannabis more than older ones\n",
    "- Man from richer families tries cannabis more than those from poorer families\n",
    "\n",
    "## Logistic regression model\n",
    "\n",
    "The plots showed the direction of a potential relationship. But a rigorous statistical test has to be carried out to confirm the four previous hypothesis.\n",
    "\n",
    "The following code will test a logistic regression model on our hypothesis."
   ]
  },
  {
   "cell_type": "code",
   "execution_count": 9,
   "metadata": {
    "collapsed": false
   },
   "outputs": [
    {
     "name": "stdout",
     "output_type": "stream",
     "text": [
      "Optimization terminated successfully.\n",
      "         Current function value: 0.451313\n",
      "         Iterations 6\n"
     ]
    },
    {
     "data": {
      "text/html": [
       "<table class=\"simpletable\">\n",
       "<caption>Logit Regression Results</caption>\n",
       "<tr>\n",
       "  <th>Dep. Variable:</th>   <td>used_canabis</td>   <th>  No. Observations:  </th>  <td> 42725</td> \n",
       "</tr>\n",
       "<tr>\n",
       "  <th>Model:</th>               <td>Logit</td>      <th>  Df Residuals:      </th>  <td> 42720</td> \n",
       "</tr>\n",
       "<tr>\n",
       "  <th>Method:</th>               <td>MLE</td>       <th>  Df Model:          </th>  <td>     4</td> \n",
       "</tr>\n",
       "<tr>\n",
       "  <th>Date:</th>          <td>Sun, 24 Jul 2016</td> <th>  Pseudo R-squ.:     </th>  <td>0.07529</td>\n",
       "</tr>\n",
       "<tr>\n",
       "  <th>Time:</th>              <td>13:15:19</td>     <th>  Log-Likelihood:    </th> <td> -19282.</td>\n",
       "</tr>\n",
       "<tr>\n",
       "  <th>converged:</th>           <td>True</td>       <th>  LL-Null:           </th> <td> -20852.</td>\n",
       "</tr>\n",
       "<tr>\n",
       "  <th> </th>                      <td> </td>        <th>  LLR p-value:       </th>  <td> 0.000</td> \n",
       "</tr>\n",
       "</table>\n",
       "<table class=\"simpletable\">\n",
       "<tr>\n",
       "         <td></td>            <th>coef</th>     <th>std err</th>      <th>z</th>      <th>P>|z|</th> <th>[95.0% Conf. Int.]</th> \n",
       "</tr>\n",
       "<tr>\n",
       "  <th>Intercept</th>       <td>   -2.1043</td> <td>    0.032</td> <td>  -66.764</td> <td> 0.000</td> <td>   -2.166    -2.043</td>\n",
       "</tr>\n",
       "<tr>\n",
       "  <th>family_income_c</th> <td> 2.353e-06</td> <td> 2.16e-07</td> <td>   10.880</td> <td> 0.000</td> <td> 1.93e-06  2.78e-06</td>\n",
       "</tr>\n",
       "<tr>\n",
       "  <th>age_c</th>           <td>   -0.0378</td> <td>    0.001</td> <td>  -45.288</td> <td> 0.000</td> <td>   -0.039    -0.036</td>\n",
       "</tr>\n",
       "<tr>\n",
       "  <th>sex</th>             <td>    0.5060</td> <td>    0.026</td> <td>   19.766</td> <td> 0.000</td> <td>    0.456     0.556</td>\n",
       "</tr>\n",
       "<tr>\n",
       "  <th>white_ethnicity</th> <td>    0.3583</td> <td>    0.032</td> <td>   11.268</td> <td> 0.000</td> <td>    0.296     0.421</td>\n",
       "</tr>\n",
       "</table>"
      ],
      "text/plain": [
       "<class 'statsmodels.iolib.summary.Summary'>\n",
       "\"\"\"\n",
       "                           Logit Regression Results                           \n",
       "==============================================================================\n",
       "Dep. Variable:           used_canabis   No. Observations:                42725\n",
       "Model:                          Logit   Df Residuals:                    42720\n",
       "Method:                           MLE   Df Model:                            4\n",
       "Date:                Sun, 24 Jul 2016   Pseudo R-squ.:                 0.07529\n",
       "Time:                        13:15:19   Log-Likelihood:                -19282.\n",
       "converged:                       True   LL-Null:                       -20852.\n",
       "                                        LLR p-value:                     0.000\n",
       "===================================================================================\n",
       "                      coef    std err          z      P>|z|      [95.0% Conf. Int.]\n",
       "-----------------------------------------------------------------------------------\n",
       "Intercept          -2.1043      0.032    -66.764      0.000        -2.166    -2.043\n",
       "family_income_c  2.353e-06   2.16e-07     10.880      0.000      1.93e-06  2.78e-06\n",
       "age_c              -0.0378      0.001    -45.288      0.000        -0.039    -0.036\n",
       "sex                 0.5060      0.026     19.766      0.000         0.456     0.556\n",
       "white_ethnicity     0.3583      0.032     11.268      0.000         0.296     0.421\n",
       "===================================================================================\n",
       "\"\"\""
      ]
     },
     "execution_count": 9,
     "metadata": {},
     "output_type": "execute_result"
    }
   ],
   "source": [
    "model = smf.logit(formula='used_canabis ~ family_income_c + age_c + sex + white_ethnicity', data=centered_nesarc).fit()\n",
    "model.summary()"
   ]
  },
  {
   "cell_type": "code",
   "execution_count": 10,
   "metadata": {
    "collapsed": false
   },
   "outputs": [
    {
     "data": {
      "text/html": [
       "<div>\n",
       "<table border=\"1\" class=\"dataframe\">\n",
       "  <thead>\n",
       "    <tr style=\"text-align: right;\">\n",
       "      <th></th>\n",
       "      <th>Lower Conf. Int.</th>\n",
       "      <th>Upper Conf. Int.</th>\n",
       "      <th>Odds Ratios</th>\n",
       "    </tr>\n",
       "  </thead>\n",
       "  <tbody>\n",
       "    <tr>\n",
       "      <th>Intercept</th>\n",
       "      <td>0.114625</td>\n",
       "      <td>0.129699</td>\n",
       "      <td>0.121930</td>\n",
       "    </tr>\n",
       "    <tr>\n",
       "      <th>family_income_c</th>\n",
       "      <td>1.000002</td>\n",
       "      <td>1.000003</td>\n",
       "      <td>1.000002</td>\n",
       "    </tr>\n",
       "    <tr>\n",
       "      <th>age_c</th>\n",
       "      <td>0.961303</td>\n",
       "      <td>0.964455</td>\n",
       "      <td>0.962878</td>\n",
       "    </tr>\n",
       "    <tr>\n",
       "      <th>sex</th>\n",
       "      <td>1.577421</td>\n",
       "      <td>1.743910</td>\n",
       "      <td>1.658578</td>\n",
       "    </tr>\n",
       "    <tr>\n",
       "      <th>white_ethnicity</th>\n",
       "      <td>1.344412</td>\n",
       "      <td>1.522873</td>\n",
       "      <td>1.430863</td>\n",
       "    </tr>\n",
       "  </tbody>\n",
       "</table>\n",
       "</div>"
      ],
      "text/plain": [
       "                 Lower Conf. Int.  Upper Conf. Int.  Odds Ratios\n",
       "Intercept                0.114625          0.129699     0.121930\n",
       "family_income_c          1.000002          1.000003     1.000002\n",
       "age_c                    0.961303          0.964455     0.962878\n",
       "sex                      1.577421          1.743910     1.658578\n",
       "white_ethnicity          1.344412          1.522873     1.430863"
      ]
     },
     "execution_count": 10,
     "metadata": {},
     "output_type": "execute_result"
    }
   ],
   "source": [
    "params = model.params\n",
    "conf = model.conf_int()\n",
    "conf['Odds Ratios'] = params\n",
    "conf.columns = ['Lower Conf. Int.', 'Upper Conf. Int.', 'Odds Ratios']\n",
    "np.exp(conf)"
   ]
  },
  {
   "cell_type": "markdown",
   "metadata": {
    "collapsed": true
   },
   "source": [
    "## Confounders analysis\n",
    "\n",
    "As all four variables coefficient have significant p-value (<< 0.05), no confounders are present in this model.\n",
    "\n",
    "But as the pseudo R-Square has a really low value, the model does not really explain well the response variable. And so there is maybe a confounder variable that I have not test for.\n",
    "\n",
    "## Summary\n",
    "\n",
    "From the oods ratios results, we can conclude that:\n",
    "- People with white ethnicity are more likely to have ever used cannabis (OR=1.43, 95% confidence int. [1.34, 1.52], p<.0005)\n",
    "- Male are more likely to have ever used cannabis than female (OR=1.66, 95% CI=[1.58, 1.74], p<.0005)\n",
    "- People aged of less than 46 are more likely to have ever used cannabis (OR=0.963, 95% CI=[0.961, 0.964], p<.0005)\n",
    "\n",
    "\n",
    "Regarding the last explanatory variable (family income), I don't if I can really conclude. Indeed from the strict resuts, people coming from richer family are more likely to have ever used cannabis (OR=1.000002, 95% CI=[1.000002, 1.000003], p<.0005). But the odds ratio is so close to 1.0 than I don't know if the difference is significant."
   ]
  }
 ],
 "metadata": {
  "anaconda-cloud": {},
  "hide_input": false,
  "kernelspec": {
   "display_name": "Python [Root]",
   "language": "python",
   "name": "Python [Root]"
  },
  "language_info": {
   "codemirror_mode": {
    "name": "ipython",
    "version": 3
   },
   "file_extension": ".py",
   "mimetype": "text/x-python",
   "name": "python",
   "nbconvert_exporter": "python",
   "pygments_lexer": "ipython3",
   "version": "3.5.2"
  },
  "toc": {
   "toc_cell": false,
   "toc_number_sections": true,
   "toc_threshold": "3",
   "toc_window_display": false
  }
 },
 "nbformat": 4,
 "nbformat_minor": 0
}
